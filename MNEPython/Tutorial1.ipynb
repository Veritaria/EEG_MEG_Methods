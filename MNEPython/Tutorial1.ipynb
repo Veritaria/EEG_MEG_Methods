{
 "cells": [
  {
   "cell_type": "code",
   "execution_count": 1,
   "metadata": {},
   "outputs": [
    {
     "name": "stdout",
     "output_type": "stream",
     "text": [
      "Intel MKL WARNING: Support of Intel(R) Streaming SIMD Extensions 4.2 (Intel(R) SSE4.2) enabled only processors has been deprecated. Intel oneAPI Math Kernel Library 2025.0 will require Intel(R) Advanced Vector Extensions (Intel(R) AVX) instructions.\n",
      "Intel MKL WARNING: Support of Intel(R) Streaming SIMD Extensions 4.2 (Intel(R) SSE4.2) enabled only processors has been deprecated. Intel oneAPI Math Kernel Library 2025.0 will require Intel(R) Advanced Vector Extensions (Intel(R) AVX) instructions.\n"
     ]
    }
   ],
   "source": [
    "# Load modules necessary\n",
    "import os\n",
    "import numpy as np\n",
    "import matplotlib.pyplot as plt\n",
    "import mne\n",
    "from scipy.signal import detrend\n",
    "\n",
    "%matplotlib qt"
   ]
  },
  {
   "cell_type": "markdown",
   "metadata": {},
   "source": [
    "## Load sample dataset\n",
    "\n",
    "##### For EEG dataset, we will use EEG Motor Movement/Imagery Dataset from here: https://physionet.org/content/eegmmidb/1.0.0/#files-panel\n",
    "\n",
    "##### The original dataset contains 109 volunteers. However, here in this tutorial we will explore data from Subject 42\n",
    "##### You can download the dataset from Brightspace"
   ]
  },
  {
   "cell_type": "code",
   "execution_count": 2,
   "metadata": {},
   "outputs": [
    {
     "name": "stdout",
     "output_type": "stream",
     "text": [
      "Extracting EDF parameters from /Users/mrugankdake/Documents/Coursework/EEG_MEG/Datasets/EEG/S001R01.edf...\n",
      "EDF file detected\n",
      "Setting channel info structure...\n",
      "Creating raw.info structure...\n",
      "Reading 0 ... 9759  =      0.000 ...    60.994 secs...\n"
     ]
    }
   ],
   "source": [
    "# Path to the EEG file\n",
    "eegPath = '../../Datasets/EEG/S001R01.edf'\n",
    "\n",
    "# Load the EEG file using MNE\n",
    "# MNE has different read formats for different EEG file types\n",
    "# Here we are using read_raw_edf to read the EEG file\n",
    "# preload=True loads the data into memory (default is False, which loads the data when needed)\n",
    "raw = mne.io.read_raw_edf(eegPath, preload=True)"
   ]
  },
  {
   "cell_type": "code",
   "execution_count": 3,
   "metadata": {},
   "outputs": [],
   "source": [
    "# Let us try plotting an EEG channel using matplotlib\n",
    "# We can get the data of the EEG channel using get_data() function\n",
    "# The data is in the form of a numpy array\n",
    "# We can plot the data using matplotlib\n",
    "# Let us plot the first channel of the EEG data\n",
    "data = raw.get_data()\n",
    "plt.plot(data[50])\n",
    "plt.xlabel('Time')\n",
    "plt.ylabel('Amplitude')\n",
    "plt.title('EEG Channel 1')\n",
    "plt.show()"
   ]
  },
  {
   "cell_type": "code",
   "execution_count": 4,
   "metadata": {},
   "outputs": [
    {
     "name": "stdout",
     "output_type": "stream",
     "text": [
      "Using matplotlib as 2D backend.\n"
     ]
    }
   ],
   "source": [
    "# Now let's try using the interactive plotting feature of MNE\n",
    "# This is done by using the plot() function of the raw object\n",
    "# This will open a new window where we can interactively plot the EEG data\n",
    "# This is useful for exploring the data, check for any artifacts, find bad channels, or sections of recordings that need to be removed\n",
    "raw.plot(scalings=10e-5, n_channels=8, title='EEG Data')\n",
    "plt.show()"
   ]
  },
  {
   "cell_type": "code",
   "execution_count": 5,
   "metadata": {},
   "outputs": [
    {
     "name": "stdout",
     "output_type": "stream",
     "text": [
      "EEG channel type selected for re-referencing\n",
      "Applying average reference.\n",
      "Applying a custom ('EEG',) reference.\n",
      "EEG channel type selected for re-referencing\n",
      "Applying a custom ('EEG',) reference.\n"
     ]
    }
   ],
   "source": [
    "# Referencing data\n",
    "# EEG data is usually recorded with respect to a reference electrode\n",
    "# The reference electrode can be different for different EEG systems\n",
    "# The data can be re-referenced to a common reference electrode\n",
    "# This is done using the set_eeg_reference() function of the raw object\n",
    "# The function takes the reference electrode as an argument\n",
    "# The reference electrode can be a string, list, or a numpy array\n",
    "# Here we are using the average reference as the reference electrode\n",
    "# The average reference is the average of all the EEG channels\n",
    "raw_reref = raw.copy() # Create a copy of the raw object so that the original data is not modified\n",
    "raw_reref.set_eeg_reference(ref_channels='average')\n",
    "# We can also rerefence data using a specific channel as the reference electrode\n",
    "# For example, we can use the mastoids as reference electrodes\n",
    "raw_reref2 = raw.copy()\n",
    "raw_reref2.set_eeg_reference(ref_channels= ['T7..', 'T8..'])\n",
    "\n",
    "# Plot the data before referencing\n",
    "fig1 = raw.plot(scalings=10e-5, n_channels=8, title='EEG Data (Original)', block=False)\n",
    "# Plot the data after referencing using average reference\n",
    "fig2 = raw_reref.plot(scalings=10e-5, n_channels=8, title='EEG Data (Average Reference)', block=False)\n",
    "# Plot the data after referencing using first channel as reference\n",
    "fig3 = raw_reref2.plot(scalings=10e-5, n_channels=8, title='EEG Data (Mastoid Reference)', block=False)\n",
    "plt.show()"
   ]
  },
  {
   "cell_type": "code",
   "execution_count": 6,
   "metadata": {},
   "outputs": [],
   "source": [
    "# Creating a fake channel with a polynomial trend\n",
    "fake_data = raw.get_data()[0]\n",
    "t = np.linspace(0, 1, len(fake_data))\n",
    "np.random.seed(42)\n",
    "trend = np.random.randn(3)\n",
    "fake_data += 4e-3 * np.polyval(trend, t)\n",
    "\n",
    "# Let us look at different ways to remove trend from the data\n",
    "# First, we can simply mean-center the data\n",
    "# This is done by subtracting the mean of the data from the data\n",
    "fake_data_centered = fake_data - np.mean(fake_data)\n",
    "\n",
    "# Second, we can remove a linear trend from the data\n",
    "# This can be done using detrend() function of numpy\n",
    "fake_data_detrended = detrend(fake_data, type='linear')\n",
    "\n",
    "# Next we can remove a polynomial trend from the data\n",
    "# This is done by fitting a polynomial model to the data and subtracting the model from the data\n",
    "# We can use the polyfit() function of numpy to fit a polynomial model to the data\n",
    "# The polyfit() function returns the coefficients of the polynomial model\n",
    "# We can use the polyval() function of numpy to evaluate the polynomial model at the data points\n",
    "# We can then subtract the polynomial model from the data\n",
    "trend = np.polyfit(t, fake_data, 3)\n",
    "fake_data_detrended2 = fake_data - np.polyval(trend, t)\n",
    "\n",
    "# Plot the original data and the detrended data\n",
    "f, axs = plt.subplots(2, 2, figsize=(10, 10))\n",
    "axs[0, 0].plot(t, fake_data)\n",
    "axs[0, 0].set_title('Original Data')\n",
    "axs[0, 1].plot(t, fake_data_centered)\n",
    "axs[0, 1].set_title('Mean-Centered Data')\n",
    "axs[1, 0].plot(t, fake_data_detrended)\n",
    "axs[1, 0].set_title('Linear Detrended Data')\n",
    "axs[1, 1].plot(t, fake_data_detrended2)\n",
    "axs[1, 1].set_title('Polynomial Detrended Data')\n",
    "plt.show()"
   ]
  }
 ],
 "metadata": {
  "kernelspec": {
   "display_name": "eegmne",
   "language": "python",
   "name": "python3"
  },
  "language_info": {
   "codemirror_mode": {
    "name": "ipython",
    "version": 3
   },
   "file_extension": ".py",
   "mimetype": "text/x-python",
   "name": "python",
   "nbconvert_exporter": "python",
   "pygments_lexer": "ipython3",
   "version": "3.9.19"
  }
 },
 "nbformat": 4,
 "nbformat_minor": 2
}
