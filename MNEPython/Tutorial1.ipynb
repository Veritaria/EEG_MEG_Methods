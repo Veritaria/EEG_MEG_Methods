{
 "cells": [
  {
   "cell_type": "code",
   "execution_count": null,
   "metadata": {},
   "outputs": [],
   "source": [
    "# Load modules necessary\n",
    "import os\n",
    "import numpy as np\n",
    "import matplotlib.pyplot as plt\n",
    "import mne\n",
    "import pandas as pd\n",
    "from scipy.signal import detrend\n",
    "\n",
    "%matplotlib qt"
   ]
  },
  {
   "cell_type": "markdown",
   "metadata": {},
   "source": [
    "## Load sample dataset\n",
    "\n",
    "##### For EEG dataset, we will use CHB-MIT Scalp EEG Dataset from here: https://physionet.org/content/chbmit/1.0.0/chb01/#files-panel\n",
    "\n",
    "##### The original dataset contains 22 subjects. However, here in this tutorial we will explore data from Subject 01\n",
    "##### You can download the dataset from Brightspace"
   ]
  },
  {
   "cell_type": "code",
   "execution_count": null,
   "metadata": {},
   "outputs": [],
   "source": [
    "# Path to the EEG file\n",
    "eegPath = '../../Datasets/EEG/sub-01/eeg/sub-01_task-daf_eeg_filtered.vhdr'\n",
    "\n",
    "# Load the EEG file using MNE\n",
    "# MNE has different read formats for different EEG file types\n",
    "# Here we are using read_raw_edf to read the EEG file\n",
    "# preload=True loads the data into memory (default is False, which loads the data when needed)\n",
    "\n",
    "# Now try to load the EEG file using read_raw_brainvision\n",
    "raw =  ...\n",
    "\n",
    "# The positions of the electrodes are stored in a separate file, and are important for visualizing the EEG data\n",
    "# as well as to perform source localization\n",
    "# Here we will load them using pandas\n",
    "elecPos = pd.read_csv('../../Datasets/iEEG/sub-01/eeg/sub-01_electrodes.tsv', sep='\\t')\n",
    "# Add fiducials\n",
    "fiducials = pd.DataFrame({\n",
    "    'name': ['Nz', 'LPA', 'RPA'],\n",
    "    'x': [-4.129838157917329e-18, -0.0729282673627754, 0.08278152042487033],\n",
    "    'y': [0.10011015398430487, 3.008505424862354e-18, -3.414981080487009e-18],\n",
    "    'z': [-5.7777898331617076e-33, 3.851859888774472e-34, 3.4666738998970245e-33]\n",
    "})\n",
    "\n",
    "# Concatenate the original electrode positions with the fiducials\n",
    "elecPos = pd.concat([elecPos, fiducials], ignore_index=True)\n",
    "\n",
    "montage = mne.channels.make_dig_montage(\n",
    "    ch_pos=dict(zip(elecPos['name'], elecPos[['x', 'y', 'z']].values)),\n",
    "    coord_frame='head'\n",
    ")\n",
    "raw.set_montage(montage)"
   ]
  },
  {
   "cell_type": "code",
   "execution_count": 1,
   "metadata": {},
   "outputs": [
    {
     "ename": "NameError",
     "evalue": "name 'raw' is not defined",
     "output_type": "error",
     "traceback": [
      "\u001b[0;31m---------------------------------------------------------------------------\u001b[0m",
      "\u001b[0;31mNameError\u001b[0m                                 Traceback (most recent call last)",
      "Cell \u001b[0;32mIn[1], line 1\u001b[0m\n\u001b[0;32m----> 1\u001b[0m \u001b[43mraw\u001b[49m\u001b[38;5;241m.\u001b[39mget_data()\u001b[38;5;241m.\u001b[39mshape\n",
      "\u001b[0;31mNameError\u001b[0m: name 'raw' is not defined"
     ]
    }
   ],
   "source": [
    "raw.get_data().shape"
   ]
  },
  {
   "cell_type": "code",
   "execution_count": null,
   "metadata": {},
   "outputs": [],
   "source": []
  },
  {
   "cell_type": "code",
   "execution_count": null,
   "metadata": {},
   "outputs": [],
   "source": [
    "# Let us try plotting an EEG channel using matplotlib\n",
    "# We can get the data of the EEG channel using get_data() function\n",
    "# The data is in the form of a numpy array\n",
    "data = ...\n",
    "chToPlot = 0 # Channel to plot\n",
    "timeToPlot = 10 # Time in seconds to plot\n",
    "plt.plot(...)\n",
    "plt.xlabel('Time (s)')\n",
    "plt.ylabel('Amplitude (uV)')\n",
    "plt.title('EEG Channel 1')\n",
    "plt.show()"
   ]
  },
  {
   "cell_type": "code",
   "execution_count": null,
   "metadata": {},
   "outputs": [],
   "source": [
    "# Now let's try using the interactive plotting feature of MNE\n",
    "# This is done by using the plot() function of the raw object\n",
    "# This will open a new window where we can interactively plot the EEG data\n",
    "# This is useful for exploring the data, checking for any artifacts, finding bad channels, or sections of recordings that need to be removed\n",
    "# Try plotting using raw.plot()\n",
    "...\n",
    "plt.show()"
   ]
  },
  {
   "cell_type": "code",
   "execution_count": null,
   "metadata": {},
   "outputs": [],
   "source": [
    "## Visualizing the montage of electrodes\n",
    "# Plot montage using matplotlib as 3D scatter plot\n",
    "fig = plt.figure()\n",
    "ax = fig.add_subplot(111, projection='3d')\n",
    "\n",
    "for dig_point in raw.info['dig']:\n",
    "    # Check if dig point is a fiducial point\n",
    "    if dig_point['kind'] == 1:\n",
    "        # Try plotting the fiducial points as red points\n",
    "    else:\n",
    "        # Try plotting the electrode points as blue points\n",
    "ax.set_axis_off()\n",
    "ax.grid(False)\n",
    "ax.view_init(elev=0, azim=90)\n",
    "plt.show()"
   ]
  },
  {
   "cell_type": "code",
   "execution_count": null,
   "metadata": {},
   "outputs": [],
   "source": [
    "## Referencing data\n",
    "# EEG data is usually recorded with respect to a reference electrode\n",
    "# The reference electrode can be different for different EEG systems\n",
    "# The data can be re-referenced to a common reference electrode, such as the average reference, linked mastoids, etc.\n",
    "# Here we are going to re-reference the data using the average reference and the mastoids as reference electrodes\n",
    "# The average refernce is calculated by taking the average of all the electrodes\n",
    "raw_reref = raw.copy() # Create a copy of the raw object so that the original data is not modified\n",
    "data_reref = raw_reref.get_data()\n",
    "# Remove mean of all channels from each channel\n",
    "# Try re-referencing the data using the average reference\n",
    "data_reref = ...\n",
    "raw_reref._data = data_reref\n",
    "\n",
    "# We can also rerefence data using a specific channel as the reference electrode\n",
    "# For example, we can use the mastoids as reference electrodes\n",
    "raw_reref2 = raw.copy()\n",
    "elecIdxT7 = raw_reref2.ch_names.index('TP9')\n",
    "elecIdxT8 = raw_reref2.ch_names.index('TP10')\n",
    "data_reref2 = raw_reref2.get_data()\n",
    "# Try re-referencing the data using the mastoids as reference electrodes\n",
    "data_reref2 = ...\n",
    "raw_reref2._data = data_reref2\n",
    "\n",
    "f, axs = plt.subplots(3, 1, sharex=True, sharey=False, figsize=(10, 6))\n",
    "elecToPlot = 10\n",
    "timeToPlot = 5 # Time in seconds\n",
    "# Plot the data before referencing\n",
    "axs[0].plot(raw.times[raw.times <= timeToPlot], raw.get_data()[elecToPlot, raw.times <= timeToPlot])\n",
    "axs[0].set_title('Original Data')\n",
    "\n",
    "# Plot the data after referencing using average reference\n",
    "axs[1].plot(raw_reref.times[raw_reref.times <= timeToPlot], raw_reref.get_data()[elecToPlot, raw_reref.times <= timeToPlot])\n",
    "axs[1].set_title('Average Reference')\n",
    "\n",
    "# Plot the data after referencing using first channel as references\n",
    "axs[2].plot(raw_reref2.times[raw_reref2.times <= timeToPlot], raw_reref2.get_data()[elecToPlot, raw_reref2.times <= timeToPlot])\n",
    "axs[2].set_title('Mastoid Reference')\n",
    "plt.show()"
   ]
  }
 ],
 "metadata": {
  "kernelspec": {
   "display_name": "eegmeg",
   "language": "python",
   "name": "python3"
  },
  "language_info": {
   "codemirror_mode": {
    "name": "ipython",
    "version": 3
   },
   "file_extension": ".py",
   "mimetype": "text/x-python",
   "name": "python",
   "nbconvert_exporter": "python",
   "pygments_lexer": "ipython3",
   "version": "3.9.19"
  }
 },
 "nbformat": 4,
 "nbformat_minor": 4
}
