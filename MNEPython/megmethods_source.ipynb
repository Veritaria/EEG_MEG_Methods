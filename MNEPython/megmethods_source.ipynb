{
 "cells": [
  {
   "cell_type": "markdown",
   "id": "d48c8b24-0a0c-4448-871e-170e435d1d43",
   "metadata": {},
   "source": [
    "# Settings"
   ]
  },
  {
   "cell_type": "code",
   "execution_count": 5,
   "id": "0032ae33-da7c-4fd6-9fa2-c76ac7eaf706",
   "metadata": {},
   "outputs": [],
   "source": [
    "import mne, os, glob, pickle\n",
    "import numpy as np\n",
    "import pandas as pd\n",
    "import matplotlib\n",
    "import itertools\n",
    "matplotlib.use('Qt5Agg')\n",
    "\n",
    "expt = 'SemRep'\n",
    "main_dir = f'/Volumes/Server/NEUROLING/Projects/{expt}/data' # dataset directory\n",
    "meg_dir = os.path.join(main_dir, 'meg')\n",
    "mri_dir = os.path.join(main_dir, 'mri')\n",
    "os.chdir(main_dir)\n",
    "parts = [1,2]\n",
    "\n",
    "mne.set_log_level(verbose=30)\n",
    "\n",
    "import matplotlib.pyplot as plt"
   ]
  },
  {
   "cell_type": "code",
   "execution_count": 6,
   "id": "e074a0a7-eabd-4ef6-abe0-b8e817f2647f",
   "metadata": {},
   "outputs": [],
   "source": [
    "subjects =['R1441','R1701','R1834','R1954','R1974','R1985','R1993','R1994','R1998','R2021','R2029','R2031','R2041','R1439','R2148', 'R1830', 'R2149']\n",
    "parts = [1,2]"
   ]
  },
  {
   "cell_type": "markdown",
   "id": "9282abd9-f173-43a5-8f55-5521187566b3",
   "metadata": {},
   "source": [
    "## Subject specific settings"
   ]
  },
  {
   "cell_type": "code",
   "execution_count": 8,
   "id": "be3c5ad4-21db-4b5f-8d33-9f61c374d62d",
   "metadata": {},
   "outputs": [],
   "source": [
    "subj = subjects[0]\n",
    "part = parts[0]"
   ]
  },
  {
   "cell_type": "code",
   "execution_count": 9,
   "id": "8295e015-ed42-4b2f-83c3-2cbaed2bed99",
   "metadata": {},
   "outputs": [],
   "source": [
    "# Create all nec directories\n",
    "cache_dir = main_dir + f'/meg/{subj}/cache/'\n",
    "\n",
    "# figure dir\n",
    "if not os.path.exists(f'figures/{subj}/'):\n",
    "    os.makedirs(f'figures/{subj}/')\n",
    "# source dir\n",
    "if not os.path.exists(f'meg/{subj}/source/'):\n",
    "            os.makedirs(f'meg/{subj}/source/')\n",
    "# whitened evoked dir\n",
    "if not os.path.exists(f'figures/{subj}/whitened/'):\n",
    "    os.makedirs(f'figures/{subj}/whitened/')"
   ]
  },
  {
   "cell_type": "code",
   "execution_count": 10,
   "id": "2183d11a-6fcd-4364-ae7d-df55c5a05fe9",
   "metadata": {},
   "outputs": [],
   "source": [
    "# and all nec filenames\n",
    "\n",
    "trans_fname = mne.read_trans(f'meg/{subj}/{subj}-trans-{part}.fif') # reading in coregistration transformation\n",
    "bem_fname = os.path.join(mri_dir, f'{subj}/bem/{subj}-inner_skull-bem-sol.fif')\n",
    "src_fname = os.path.join(mri_dir, f'{subj}/bem/{subj}-ico-4-src.fif')\n",
    "cov_fname = f'meg/{subj}/source/{subj}_part{part}-cov.fif'\n",
    "fwd_fname = f'meg/{subj}/source/{subj}_part{part}-fwd.fif'\n",
    "inv_fname = f'meg/{subj}/source/{subj}_part{part}-inv.fif'  "
   ]
  },
  {
   "cell_type": "markdown",
   "id": "1e2983cf-0779-4e59-a05d-b3a5eb529e0c",
   "metadata": {},
   "source": [
    "# Create evoked"
   ]
  },
  {
   "cell_type": "code",
   "execution_count": 11,
   "id": "833fac71-14fa-45a3-88c1-2a5e7136541e",
   "metadata": {},
   "outputs": [
    {
     "name": "stdout",
     "output_type": "stream",
     "text": [
      "STCs for subj = R1441\n",
      "Data read in...\n",
      "Conditions generated... Creating evoked responses for R1441\n",
      "Full condition list finished...\n"
     ]
    }
   ],
   "source": [
    "# adapted from a larger subject loop\n",
    "\n",
    "print(f\"STCs for subj = {subj}\")\n",
    "\n",
    "cleandata = mne.read_epochs(os.path.join(meg_dir, subj, 'preproc', f'{expt}_{subj}_final_part{part}-epo.fif'))\n",
    "        \n",
    "# crop the epochs (only nec for my experiment)\n",
    "cleandata = cleandata.crop(0,0.65)\n",
    "        \n",
    "# select and define all of the conditions       \n",
    "info = cleandata.info\n",
    "cleandata.metadata = cleandata.metadata.replace(['U', 'H', 'P'], ['unam', 'hom', 'pol'])\n",
    "print('Data read in...')\n",
    "\n",
    "POS = list(cleandata.metadata['POS'].unique())\n",
    "ST = list(cleandata.event_id.keys())\n",
    "context = list(cleandata.metadata['context'].unique())\n",
    "detailed_cond = list(itertools.product(ST, context,POS)) \n",
    "\n",
    "print(f'Conditions generated... Creating evoked responses for {subj}')\n",
    "\n",
    "evoked = []\n",
    "for c1,c2,c3 in detailed_cond:\n",
    "        query_string = f\"`semantic type` == '{c1}' and context == '{c2}' and POS == '{c3}'\"\n",
    "        cond = cleandata[query_string].average() # average over conditions\n",
    "        cond.comment = c1 +'-'+c2+'-'+c3\n",
    "        if not os.path.exists(f'figures/{subj}/{subj}_evoked_part{part}-{cond.comment}.png'): # plot the evoked response\n",
    "            cond_plot = cond.plot_joint(title= cond.comment, show=False);\n",
    "            cond_plot.savefig(f'figures/{subj}/{subj}_evoked_part{part}-{cond.comment}.png')\n",
    "            plt.close()\n",
    "        evoked.append(cond)\n",
    "\n",
    "        \n",
    "print('Full condition list finished...')"
   ]
  },
  {
   "cell_type": "markdown",
   "id": "2ebc11c5-9bee-4b55-a04f-dea4c16b1514",
   "metadata": {},
   "source": [
    "### Sanity check: plot all evoked for one subj"
   ]
  },
  {
   "cell_type": "code",
   "execution_count": 13,
   "id": "a5b79dc1-1285-45d2-acd4-fe0076ad915d",
   "metadata": {},
   "outputs": [],
   "source": [
    "all_evokeds = mne.combine_evoked(evoked, weights='equal')\n",
    "evoked_plot = all_evokeds.plot_joint(show=False)\n",
    "evoked_plot.comment = 'grand avg'\n",
    "evoked_plot.savefig(f'figures/{subj}/{subj}_allevoked_part{part}.png')\n",
    "plt.close()"
   ]
  },
  {
   "cell_type": "markdown",
   "id": "30aab2f3-d82c-4f14-b70e-261961c45a34",
   "metadata": {},
   "source": [
    "# Create Source Timecourses"
   ]
  },
  {
   "cell_type": "markdown",
   "id": "3b71f5dd-2bbd-4c8e-9f3e-67abf93ad27a",
   "metadata": {},
   "source": [
    "## Covariance and whitened data"
   ]
  },
  {
   "cell_type": "code",
   "execution_count": 15,
   "id": "2f7af915-f16d-4bde-b5ff-cd7d88cf3351",
   "metadata": {},
   "outputs": [
    {
     "name": "stderr",
     "output_type": "stream",
     "text": [
      "/var/folders/f_/8vg268vd0qqb5s9vcd342s7r0000gr/T/ipykernel_39048/374009836.py:3: RuntimeWarning: Too few samples (required : 790 got : 445), covariance estimate may be unreliable\n",
      "  cov = mne.compute_covariance(cleandata, tmin=baseline[0], tmax=baseline[1], method=['shrunk', 'diagonal_fixed', 'empirical'])\n"
     ]
    },
    {
     "name": "stdout",
     "output_type": "stream",
     "text": [
      "Full condition list finished...\n",
      "Full condition list finished...\n",
      "Full condition list finished...\n",
      "Full condition list finished...\n",
      "Full condition list finished...\n",
      "Full condition list finished...\n",
      "Full condition list finished...\n",
      "Full condition list finished...\n",
      "Full condition list finished...\n",
      "Full condition list finished...\n",
      "Full condition list finished...\n",
      "Full condition list finished...\n",
      "Full condition list finished...\n",
      "Full condition list finished...\n",
      "Full condition list finished...\n",
      "Full condition list finished...\n",
      "Full condition list finished...\n",
      "Full condition list finished...\n"
     ]
    }
   ],
   "source": [
    "# compute the noise covariance and plot whitened data as a sanity check\n",
    "baseline = (-0.1, 0)\n",
    "cov = mne.compute_covariance(cleandata, tmin=baseline[0], tmax=baseline[1], method=['shrunk', 'diagonal_fixed', 'empirical'])\n",
    "#cov.save(cov_fname, overwrite=True)\n",
    "\n",
    "for ev in evoked:\n",
    "    fig = ev.plot_white(cov, show=False)\n",
    "    fig.savefig(f'figures/{subj}/whitened/whitened-{cond.comment}_part{part}.png')\n",
    "print('Full condition list finished...')"
   ]
  },
  {
   "cell_type": "markdown",
   "id": "5914a2f9-5812-445b-bc39-c28e98cada72",
   "metadata": {},
   "source": [
    "## Create source space"
   ]
  },
  {
   "cell_type": "code",
   "execution_count": 16,
   "id": "290711ef-9447-4621-8985-a97af6433aaf",
   "metadata": {},
   "outputs": [
    {
     "name": "stdout",
     "output_type": "stream",
     "text": [
      "src for subj = R1441 already exists, loading file...\n",
      "Source space completed!\n"
     ]
    }
   ],
   "source": [
    "if not os.path.isfile(src_fname):\n",
    "    print('Setting up source space')\n",
    "    src = mne.setup_source_space(subject=subj, spacing='ico4', subjects_dir=mri_dir)\n",
    "    src.save(src_fname, overwrite=True)\n",
    "else:\n",
    "    print('src for subj = %s already exists, loading file...' %subj)\n",
    "    src = mne.read_source_spaces(src_fname)\n",
    "    print('Source space completed!')"
   ]
  },
  {
   "cell_type": "markdown",
   "id": "d0c7c93c-c195-4155-aea5-66e40a019d25",
   "metadata": {},
   "source": [
    "## BEM model"
   ]
  },
  {
   "cell_type": "code",
   "execution_count": null,
   "id": "384e29ed-a1ed-4303-93c3-cd555a631b01",
   "metadata": {},
   "outputs": [],
   "source": [
    "if not os.path.isfile(bem_fname):\n",
    "    conductivity = (0.3,) # for single layer\n",
    "    model = mne.make_bem_model(subject=subj, ico=4, conductivity=conductivity, subjects_dir=mri_dir)\n",
    "    bem = mne.make_bem_solution(model)\n",
    "    mne.write_bem_solution(bem_fname, bem)\n",
    "    print ('Done. File saved.')"
   ]
  },
  {
   "cell_type": "markdown",
   "id": "7441abe7-518b-424b-a4c9-3f632cf8ab32",
   "metadata": {},
   "source": [
    "## Forward solution"
   ]
  },
  {
   "cell_type": "code",
   "execution_count": 17,
   "id": "933ce8f3-2f54-46ad-8c4e-ddece44f8f2e",
   "metadata": {},
   "outputs": [
    {
     "name": "stdout",
     "output_type": "stream",
     "text": [
      "Getting forward solution\n",
      "fwd for subj = R1441 already exists, loading file...\n",
      "Done.\n"
     ]
    }
   ],
   "source": [
    "print('Getting forward solution')\n",
    "if not os.path.isfile(fwd_fname):\n",
    "    print ('forward solution for subj = %s does not exist, creating file.' %subj)\n",
    "    fwd = mne.make_forward_solution(info=info, trans=trans_fname, src=src, bem=bem_fname, ignore_ref=True)\n",
    "    mne.write_forward_solution(fwd_fname, fwd, overwrite=True)\n",
    "else:\n",
    "    print('fwd for subj = %s already exists, loading file...' %subj)\n",
    "    fwd = mne.read_forward_solution(fwd_fname)\n",
    "    print('Done.')"
   ]
  },
  {
   "cell_type": "markdown",
   "id": "37e3e3c6-afa9-46c6-b316-8b04e0cf9e29",
   "metadata": {},
   "source": [
    "## Inverse operator"
   ]
  },
  {
   "cell_type": "code",
   "execution_count": 19,
   "id": "79882831-7c8a-4c24-af76-9d671f642927",
   "metadata": {},
   "outputs": [
    {
     "name": "stdout",
     "output_type": "stream",
     "text": [
      "Getting inverse operator\n",
      "Done!\n"
     ]
    }
   ],
   "source": [
    "print ('Getting inverse operator')\n",
    "cov = mne.read_cov(cov_fname)\n",
    "fixed = False # False: Ignoring dipole direction. Makes them perpendicular to surface. Creates unsigned data when pick_org is None.\n",
    "SNR = 3 # 3 for evoked, 2 for single trial analysis\n",
    "if fixed: # for signed data\n",
    "    fwd = mne.convert_forward_solution(fwd, surf_ori=True)\n",
    "\n",
    "inv = mne.minimum_norm.make_inverse_operator(info, fwd, cov, depth=0.8, loose=0.2, fixed=fixed) # loose sets how offset from perpendicular the dipoles are\n",
    "lambda2 = 1.0 / SNR ** 2.0 # regularization parameter\n",
    "print('Done!')"
   ]
  },
  {
   "cell_type": "markdown",
   "id": "2d8e62be-5843-4601-8700-c9db86c1db1f",
   "metadata": {},
   "source": [
    "## Create stcs"
   ]
  },
  {
   "cell_type": "code",
   "execution_count": 20,
   "id": "c0706452-c0ed-4f20-bb05-23a47eb057a4",
   "metadata": {},
   "outputs": [
    {
     "name": "stdout",
     "output_type": "stream",
     "text": [
      "Creating morphed stcs for subject R1441\n",
      "Morphing R1441_part1_unam-Null-noun_dSPM to fsaverage...\n",
      "Morphing R1441_part1_unam-Null-verb_dSPM to fsaverage...\n",
      "Morphing R1441_part1_unam-Emb-noun_dSPM to fsaverage...\n",
      "Morphing R1441_part1_unam-Emb-verb_dSPM to fsaverage...\n",
      "Morphing R1441_part1_unam-Min-noun_dSPM to fsaverage...\n",
      "Morphing R1441_part1_unam-Min-verb_dSPM to fsaverage...\n",
      "Morphing R1441_part1_pol-Null-noun_dSPM to fsaverage...\n",
      "Morphing R1441_part1_pol-Null-verb_dSPM to fsaverage...\n",
      "Morphing R1441_part1_pol-Emb-noun_dSPM to fsaverage...\n",
      "Morphing R1441_part1_pol-Emb-verb_dSPM to fsaverage...\n",
      "Morphing R1441_part1_pol-Min-noun_dSPM to fsaverage...\n",
      "Morphing R1441_part1_pol-Min-verb_dSPM to fsaverage...\n",
      "Morphing R1441_part1_hom-Null-noun_dSPM to fsaverage...\n",
      "Morphing R1441_part1_hom-Null-verb_dSPM to fsaverage...\n",
      "Morphing R1441_part1_hom-Emb-noun_dSPM to fsaverage...\n",
      "Morphing R1441_part1_hom-Emb-verb_dSPM to fsaverage...\n",
      "Morphing R1441_part1_hom-Min-noun_dSPM to fsaverage...\n",
      "Morphing R1441_part1_hom-Min-verb_dSPM to fsaverage...\n",
      "Finished subject R1441 \n",
      "\n"
     ]
    }
   ],
   "source": [
    "print(f'Creating morphed stcs for subject {subj}')\n",
    "for ev in evoked:\n",
    "    stc = mne.minimum_norm.apply_inverse(ev, inv, lambda2=lambda2, method='dSPM')\n",
    "    stc.subject = subj\n",
    "    # morphing stcs to the fsaverage using precomputed matrix method:\n",
    "    morph = mne.compute_source_morph(stc, subject_from=subj, subject_to='fsaverage', subjects_dir=mri_dir, spacing = 4)\n",
    "    stc_dir = f'full_stc/{ev.comment}'\n",
    "    stc_fname = f'{subj}_part{part}_{ev.comment}_dSPM'\n",
    "    print(f'Morphing {stc_fname} to fsaverage...')\n",
    "    stc_fsaverage = morph.apply(stc)\n",
    "    if not os.path.exists(stc_dir):\n",
    "        os.makedirs(stc_dir)\n",
    "    #stc_fsaverage.save(os.path.join(stc_dir, stc_fname), overwrite=True)\n",
    "\n",
    "print(f'Finished subject {subj} \\n')"
   ]
  }
 ],
 "metadata": {
  "kernelspec": {
   "display_name": "Python 3 (ipykernel)",
   "language": "python",
   "name": "python3"
  },
  "language_info": {
   "codemirror_mode": {
    "name": "ipython",
    "version": 3
   },
   "file_extension": ".py",
   "mimetype": "text/x-python",
   "name": "python",
   "nbconvert_exporter": "python",
   "pygments_lexer": "ipython3",
   "version": "3.12.1"
  }
 },
 "nbformat": 4,
 "nbformat_minor": 5
}
