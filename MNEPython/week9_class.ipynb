{
 "cells": [
  {
   "cell_type": "code",
   "execution_count": 1,
   "metadata": {},
   "outputs": [
    {
     "name": "stdout",
     "output_type": "stream",
     "text": [
      "Intel MKL WARNING: Support of Intel(R) Streaming SIMD Extensions 4.2 (Intel(R) SSE4.2) enabled only processors has been deprecated. Intel oneAPI Math Kernel Library 2025.0 will require Intel(R) Advanced Vector Extensions (Intel(R) AVX) instructions.\n",
      "Intel MKL WARNING: Support of Intel(R) Streaming SIMD Extensions 4.2 (Intel(R) SSE4.2) enabled only processors has been deprecated. Intel oneAPI Math Kernel Library 2025.0 will require Intel(R) Advanced Vector Extensions (Intel(R) AVX) instructions.\n"
     ]
    }
   ],
   "source": [
    "import os, mne, socket\n",
    "from mne_bids import BIDSPath, read_raw_bids\n",
    "\n",
    "%matplotlib qt\n",
    "\n",
    "# Get the hostname\n",
    "hostname = socket.gethostname()\n",
    "\n",
    "if 'hpc' in hostname:\n",
    "    # You are running your code on HPC\n",
    "    curr_dir = os.getcwd()\n",
    "    path_parts = curr_dir.split(os.sep)\n",
    "    dataPath = os.path.join(os.sep, 'scratch', 'work', 'courses', 'PSYCH-GA-3405-2024fa')\n",
    "elif hostname == 'sebastian_mac':\n",
    "    # You are Sebastian\n",
    "    # Setting up paths for data\n",
    "    mydir = os.getcwd()\n",
    "    path_parts = mydir.split(os.sep)\n",
    "    idcs = [i for i, c in enumerate(mydir) if c == os.sep]\n",
    "    dataPath = mydir[:idcs[-2]]\n",
    "else:\n",
    "    # You are running on your device with Google drive path\n",
    "    # Define the paths and initialize Fieldtrip\n",
    "    my_user_id = 'mdd9787'  # change this to your netID\n",
    "    curr_dir = os.getcwd()\n",
    "    path_parts = curr_dir.split(os.sep)\n",
    "    base_dir = os.path.join(os.sep, *path_parts[:3])\n",
    "    dataPath = os.path.join(base_dir, 'Library', 'CloudStorage', f'GoogleDrive-{my_user_id}@nyu.edu', 'My Drive', 'Coursework', 'EEG MEG methods', 'ClassData')\n",
    "\n",
    "eegRoot = os.path.join(dataPath, 'EEGBids')"
   ]
  },
  {
   "cell_type": "code",
   "execution_count": 2,
   "metadata": {},
   "outputs": [
    {
     "name": "stdout",
     "output_type": "stream",
     "text": [
      "Opening raw data file /Users/mrugankdake/Library/CloudStorage/GoogleDrive-mdd9787@nyu.edu/My Drive/Coursework/EEG MEG methods/ClassData/EEGBids/derivatives/mrugank/preprocessing/sub-004/sub-004_task-oddball_clean-raw.fif...\n",
      "    Range : 0 ... 2055679 =      0.000 ...  4014.998 secs\n",
      "Ready.\n",
      "Opening raw data file /Users/mrugankdake/Library/CloudStorage/GoogleDrive-mdd9787@nyu.edu/My Drive/Coursework/EEG MEG methods/ClassData/EEGBids/derivatives/mrugank/preprocessing/sub-004/sub-004_task-oddball_clean-raw-1.fif...\n",
      "    Range : 2055680 ... 2347007 =   4015.000 ...  4583.998 secs\n",
      "Ready.\n"
     ]
    }
   ],
   "source": [
    "## Load data\n",
    "groupName = 'GroupD'  # Change group name to analyze different dataset (valid IDs: GroupA, GroupC, GroupD)\n",
    "userName = 'mrugank'  # Make sure to ensure that you are writing to your derivatives \n",
    "taskName = 'oddball'\n",
    "\n",
    "# Get subject code for your group\n",
    "groupMap = {'GroupA': '001', 'GroupC': '003', 'GroupD': '004'}\n",
    "subjCode = groupMap[groupName]\n",
    "\n",
    "dataPath = os.path.join(eegRoot, f'sub-{subjCode}', 'eeg')\n",
    "derivPath = os.path.join(eegRoot, 'derivatives', userName, 'preprocessing', f'sub-{subjCode}')\n",
    "\n",
    "if not os.path.exists(derivPath):\n",
    "    os.makedirs(derivPath)\n",
    "\n",
    "saveRoot = f'sub-{subjCode}_task-{taskName}_'\n",
    "\n",
    "# raw_clean.save(os.path.join(derivPath, f'{saveRoot}clean-raw.fif'), overwrite=True)\n",
    "# Load raw_clean\n",
    "raw_clean = mne.io.read_raw_fif(os.path.join(derivPath, f'{saveRoot}clean-raw.fif'))"
   ]
  },
  {
   "cell_type": "code",
   "execution_count": 3,
   "metadata": {},
   "outputs": [
    {
     "name": "stdout",
     "output_type": "stream",
     "text": [
      "Reading 0 ... 2347007  =      0.000 ...  4583.998 secs...\n",
      "Filtering raw data in 1 contiguous segment\n",
      "Setting up low-pass filter at 15 Hz\n",
      "\n",
      "FIR filter parameters\n",
      "---------------------\n",
      "Designing a one-pass, zero-phase, non-causal lowpass filter:\n",
      "- Windowed time-domain design (firwin) method\n",
      "- Hamming window with 0.0194 passband ripple and 53 dB stopband attenuation\n",
      "- Upper passband edge: 15.00 Hz\n",
      "- Upper transition bandwidth: 3.75 Hz (-6 dB cutoff frequency: 16.88 Hz)\n",
      "- Filter length: 451 samples (0.881 s)\n",
      "\n"
     ]
    },
    {
     "name": "stderr",
     "output_type": "stream",
     "text": [
      "[Parallel(n_jobs=-1)]: Using backend LokyBackend with 8 concurrent workers.\n"
     ]
    },
    {
     "name": "stdout",
     "output_type": "stream",
     "text": [
      "Intel MKL WARNING: Support of Intel(R) Streaming SIMD Extensions 4.2 (Intel(R) SSE4.2) enabled only processors has been deprecated. Intel oneAPI Math Kernel Library 2025.0 will require Intel(R) Advanced Vector Extensions (Intel(R) AVX) instructions.\n",
      "Intel MKL WARNING: Support of Intel(R) Streaming SIMD Extensions 4.2 (Intel(R) SSE4.2) enabled only processors has been deprecated. Intel oneAPI Math Kernel Library 2025.0 will require Intel(R) Advanced Vector Extensions (Intel(R) AVX) instructions.\n",
      "Intel MKL WARNING: Support of Intel(R) Streaming SIMD Extensions 4.2 (Intel(R) SSE4.2) enabled only processors has been deprecated. Intel oneAPI Math Kernel Library 2025.0 will require Intel(R) Advanced Vector Extensions (Intel(R) AVX) instructions.\n",
      "Intel MKL WARNING: Support of Intel(R) Streaming SIMD Extensions 4.2 (Intel(R) SSE4.2) enabled only processors has been deprecated. Intel oneAPI Math Kernel Library 2025.0 will require Intel(R) Advanced Vector Extensions (Intel(R) AVX) instructions.\n",
      "Intel MKL WARNING: Support of Intel(R) Streaming SIMD Extensions 4.2 (Intel(R) SSE4.2) enabled only processors has been deprecated. Intel oneAPI Math Kernel Library 2025.0 will require Intel(R) Advanced Vector Extensions (Intel(R) AVX) instructions.\n",
      "Intel MKL WARNING: Support of Intel(R) Streaming SIMD Extensions 4.2 (Intel(R) SSE4.2) enabled only processors has been deprecated. Intel oneAPI Math Kernel Library 2025.0 will require Intel(R) Advanced Vector Extensions (Intel(R) AVX) instructions.\n",
      "Intel MKL WARNING: Support of Intel(R) Streaming SIMD Extensions 4.2 (Intel(R) SSE4.2) enabled only processors has been deprecated. Intel oneAPI Math Kernel Library 2025.0 will require Intel(R) Advanced Vector Extensions (Intel(R) AVX) instructions.\n",
      "Intel MKL WARNING: Support of Intel(R) Streaming SIMD Extensions 4.2 (Intel(R) SSE4.2) enabled only processors has been deprecated. Intel oneAPI Math Kernel Library 2025.0 will require Intel(R) Advanced Vector Extensions (Intel(R) AVX) instructions.\n",
      "Intel MKL WARNING: Support of Intel(R) Streaming SIMD Extensions 4.2 (Intel(R) SSE4.2) enabled only processors has been deprecated. Intel oneAPI Math Kernel Library 2025.0 will require Intel(R) Advanced Vector Extensions (Intel(R) AVX) instructions.\n",
      "Intel MKL WARNING: Support of Intel(R) Streaming SIMD Extensions 4.2 (Intel(R) SSE4.2) enabled only processors has been deprecated. Intel oneAPI Math Kernel Library 2025.0 will require Intel(R) Advanced Vector Extensions (Intel(R) AVX) instructions.\n",
      "Intel MKL WARNING: Support of Intel(R) Streaming SIMD Extensions 4.2 (Intel(R) SSE4.2) enabled only processors has been deprecated. Intel oneAPI Math Kernel Library 2025.0 will require Intel(R) Advanced Vector Extensions (Intel(R) AVX) instructions.\n",
      "Intel MKL WARNING: Support of Intel(R) Streaming SIMD Extensions 4.2 (Intel(R) SSE4.2) enabled only processors has been deprecated. Intel oneAPI Math Kernel Library 2025.0 will require Intel(R) Advanced Vector Extensions (Intel(R) AVX) instructions.\n",
      "Intel MKL WARNING: Support of Intel(R) Streaming SIMD Extensions 4.2 (Intel(R) SSE4.2) enabled only processors has been deprecated. Intel oneAPI Math Kernel Library 2025.0 will require Intel(R) Advanced Vector Extensions (Intel(R) AVX) instructions.\n",
      "Intel MKL WARNING: Support of Intel(R) Streaming SIMD Extensions 4.2 (Intel(R) SSE4.2) enabled only processors has been deprecated. Intel oneAPI Math Kernel Library 2025.0 will require Intel(R) Advanced Vector Extensions (Intel(R) AVX) instructions.\n",
      "Intel MKL WARNING: Support of Intel(R) Streaming SIMD Extensions 4.2 (Intel(R) SSE4.2) enabled only processors has been deprecated. Intel oneAPI Math Kernel Library 2025.0 will require Intel(R) Advanced Vector Extensions (Intel(R) AVX) instructions.\n",
      "Intel MKL WARNING: Support of Intel(R) Streaming SIMD Extensions 4.2 (Intel(R) SSE4.2) enabled only processors has been deprecated. Intel oneAPI Math Kernel Library 2025.0 will require Intel(R) Advanced Vector Extensions (Intel(R) AVX) instructions.\n",
      "Intel MKL WARNING: Support of Intel(R) Streaming SIMD Extensions 4.2 (Intel(R) SSE4.2) enabled only processors has been deprecated. Intel oneAPI Math Kernel Library 2025.0 will require Intel(R) Advanced Vector Extensions (Intel(R) AVX) instructions.\n",
      "Intel MKL WARNING: Support of Intel(R) Streaming SIMD Extensions 4.2 (Intel(R) SSE4.2) enabled only processors has been deprecated. Intel oneAPI Math Kernel Library 2025.0 will require Intel(R) Advanced Vector Extensions (Intel(R) AVX) instructions.\n"
     ]
    },
    {
     "name": "stderr",
     "output_type": "stream",
     "text": [
      "[Parallel(n_jobs=-1)]: Done  10 tasks      | elapsed:    4.7s\n",
      "[Parallel(n_jobs=-1)]: Done  64 tasks      | elapsed:    7.3s\n",
      "[Parallel(n_jobs=-1)]: Done 154 tasks      | elapsed:   12.8s\n",
      "[Parallel(n_jobs=-1)]: Done 256 out of 256 | elapsed:   18.0s finished\n"
     ]
    },
    {
     "name": "stdout",
     "output_type": "stream",
     "text": [
      "Used Annotations descriptions: ['/1', '/2', '/4', '/8', 'even', 'odd', 'storySeg']\n",
      "Not setting metadata\n",
      "540 matching events found\n",
      "Setting baseline interval to [-0.5, 0.0] s\n",
      "Applying baseline correction (mode: mean)\n",
      "0 projection items activated\n",
      "Using data from preloaded Raw for 540 events and 769 original time points ...\n",
      "0 bad epochs dropped\n",
      "Not setting metadata\n",
      "450 matching events found\n",
      "Setting baseline interval to [-0.5, 0.0] s\n",
      "Applying baseline correction (mode: mean)\n",
      "0 projection items activated\n",
      "Using data from preloaded Raw for 450 events and 769 original time points ...\n",
      "5 bad epochs dropped\n"
     ]
    }
   ],
   "source": [
    "# ERP analysis\n",
    "# Epoch data around the semantic visual stimulus\n",
    "import numpy as np\n",
    "\n",
    "# Apply low pass filter\n",
    "raw_clean.load_data()\n",
    "raw_clean.filter(l_freq=None, h_freq=15, n_jobs=-1)\n",
    "# Convert annotations to events using these descriptions\n",
    "events, event_dict = mne.events_from_annotations(raw_clean)\n",
    "\n",
    "# Update duration in events\n",
    "for i, evtIdx in enumerate(events):\n",
    "    if evtIdx[2] not in [5, 6]:  # Skip events with code 5 or 6\n",
    "        # Check if there is any event after that is not 5 or 6\n",
    "        nextEvents = events[i+1:]\n",
    "        # Check if there are any events after the current event that are not 5 or 6\n",
    "        isNextEvent = False\n",
    "        for nextEvt in nextEvents:\n",
    "            if nextEvt[2] not in [5, 6]:\n",
    "                isNextEvent = True\n",
    "                break\n",
    "        if isNextEvent:\n",
    "            # Update duration\n",
    "            events[i, 1] = nextEvt[0] - evtIdx[0]\n",
    "        else:\n",
    "            # Update duration\n",
    "            events[i, 1] = raw_clean.times[-1] - evtIdx[0]\n",
    "\n",
    "    else:\n",
    "        # Check if there is any event after \n",
    "        nextEvents = events[i+1:]\n",
    "        if len(nextEvents) > 0:\n",
    "            events[i, 1] = nextEvents[0, 0] - evtIdx[0]\n",
    "        else:\n",
    "            events[i, 1] = raw_clean.times[-1] - evtIdx[0]\n",
    "\n",
    "semantic_vis_blocks = events[events[:, 2] == 2] # 2 is the event code for semanticVis\n",
    "semantic_aud_blocks = events[events[:, 2] == 3] # 3 is the event code for semanticAud\n",
    "\n",
    "# Filter trial events ('even' and 'odd') that occur within semanticVis blocks\n",
    "semantic_vis_events = []\n",
    "semantic_aud_events = []\n",
    "for event in events:\n",
    "    if event[2] in [int(event_dict['even']), int(event_dict['odd'])]:\n",
    "        # Check if the trial event occurs within any semanticVis block\n",
    "        for block in semantic_vis_blocks:\n",
    "            if block[0] <= event[0] <= block[0] + int(block[1]):  # Ensure event is within block duration\n",
    "                semantic_vis_events.append(event)\n",
    "                break\n",
    "\n",
    "for event in events:\n",
    "    if event[2] in [int(event_dict['even']), int(event_dict['odd'])]:\n",
    "        for block in semantic_aud_blocks:\n",
    "            if block[0] <= event[0] <= block[0] + int(block[1]):\n",
    "                semantic_aud_events.append(event)\n",
    "                break\n",
    "\n",
    "\n",
    "# Convert to numpy array for creating epochs\n",
    "semantic_vis_events = np.array(semantic_vis_events)\n",
    "semantic_aud_events = np.array(semantic_aud_events)\n",
    "\n",
    "# Create epochs from -2 to +3 seconds relative to each trial onset within the block\n",
    "epochsVis = mne.Epochs(\n",
    "    raw_clean,\n",
    "    events=semantic_vis_events,\n",
    "    event_id={'even': int(event_dict['even']), 'odd': int(event_dict['odd'])},\n",
    "    tmin=-0.5,\n",
    "    tmax=1,\n",
    "    baseline=(None, 0),\n",
    "    preload=True\n",
    ")\n",
    "epochAud = mne.Epochs(\n",
    "    raw_clean,\n",
    "    events=semantic_aud_events,\n",
    "    event_id={'even': int(event_dict['even']), 'odd': int(event_dict['odd'])},\n",
    "    tmin=-0.5,\n",
    "    tmax=1,\n",
    "    baseline=(None, 0),\n",
    "    preload=True\n",
    ")"
   ]
  },
  {
   "cell_type": "code",
   "execution_count": 4,
   "metadata": {},
   "outputs": [
    {
     "name": "stdout",
     "output_type": "stream",
     "text": [
      "NOTE: tfr_morlet() is a legacy function. New code should use .compute_tfr(method=\"morlet\").\n"
     ]
    },
    {
     "name": "stderr",
     "output_type": "stream",
     "text": [
      "[Parallel(n_jobs=-1)]: Using backend LokyBackend with 8 concurrent workers.\n",
      "[Parallel(n_jobs=-1)]: Done  10 tasks      | elapsed:    4.9s\n",
      "[Parallel(n_jobs=-1)]: Done  64 tasks      | elapsed:   16.4s\n",
      "[Parallel(n_jobs=-1)]: Done 154 tasks      | elapsed:   36.9s\n",
      "[Parallel(n_jobs=-1)]: Done 256 out of 256 | elapsed:   58.8s finished\n"
     ]
    }
   ],
   "source": [
    "import matplotlib.pyplot as plt\n",
    "\n",
    "# Time-frequency decomposition via wavelet\n",
    "frequencies = np.arange(4, 31, 1)\n",
    "n_cycles =  3\n",
    "\n",
    "# Time-frequency representation using Morlet wavelets\n",
    "powerVis = mne.time_frequency.tfr_morlet(\n",
    "    epochsVis,\n",
    "    freqs=frequencies,\n",
    "    n_cycles=n_cycles,\n",
    "    return_itc=False,  # Only return power, not inter-trial coherence\n",
    "    average=True,  # Average across trials\n",
    "    n_jobs=-1\n",
    ")"
   ]
  },
  {
   "cell_type": "code",
   "execution_count": 5,
   "metadata": {},
   "outputs": [],
   "source": [
    "# Inspect the power spectrum for a single channel\n",
    "plt.figure(figsize=(10, 6))\n",
    "plt.imshow(\n",
    "    powerVis.data[20],  # Change the index as needed for the desired channel\n",
    "    aspect='auto',\n",
    "    extent=[powerVis.times[0], powerVis.times[-1], powerVis.freqs[0], powerVis.freqs[-1]],\n",
    "    origin='lower',\n",
    "    interpolation='nearest'\n",
    ")\n",
    "plt.colorbar(label='Power (dB)')\n",
    "plt.xlabel('Time (s)')\n",
    "plt.ylabel('Frequency (Hz)')\n",
    "plt.title('Time-Frequency Representation for Channel 20')\n",
    "plt.grid(False)\n",
    "plt.show()"
   ]
  },
  {
   "cell_type": "code",
   "execution_count": 6,
   "metadata": {},
   "outputs": [
    {
     "name": "stdout",
     "output_type": "stream",
     "text": [
      "Applying baseline correction (mode: logratio)\n"
     ]
    }
   ],
   "source": [
    "# Baseline correction\n",
    "baseline = (-0.5, 0)\n",
    "powerVis.apply_baseline(baseline=baseline, mode='logratio')  # 'logratio' is similar to 'relchange' in FieldTrip\n",
    "\n",
    "power_dummy = powerVis.copy()"
   ]
  },
  {
   "cell_type": "code",
   "execution_count": 7,
   "metadata": {},
   "outputs": [],
   "source": [
    "# Plot the power spectrum\n",
    "plt.figure(figsize=(10, 6))\n",
    "plt.imshow(\n",
    "    powerVis.data[20],  # Change the index as needed for the desired channel\n",
    "    aspect='auto',\n",
    "    extent=[powerVis.times[0], powerVis.times[-1], powerVis.freqs[0], powerVis.freqs[-1]],\n",
    "    origin='lower',\n",
    "    interpolation='nearest'\n",
    ")\n",
    "plt.colorbar(label='Power (dB)')\n",
    "plt.xlabel('Time (s)')\n",
    "plt.ylabel('Frequency (Hz)')\n",
    "plt.title('Time-Frequency Representation for Channel 20')\n",
    "plt.grid(False)\n",
    "plt.show()"
   ]
  },
  {
   "cell_type": "code",
   "execution_count": 8,
   "metadata": {},
   "outputs": [
    {
     "name": "stdout",
     "output_type": "stream",
     "text": [
      "Applying baseline correction (mode: mean)\n"
     ]
    },
    {
     "data": {
      "image/png": "[encoded data removed]",
      "text/plain": [
       "<Figure size 640x480 with 2 Axes>"
      ]
     },
     "execution_count": 8,
     "metadata": {},
     "output_type": "execute_result"
    }
   ],
   "source": [
    "# Plot the distribution of power\n",
    "powerVis.plot_topo(\n",
    "    baseline=(-0.5, 0),\n",
    "    title='Average power',\n",
    "    vmin = -1,\n",
    "    vmax = 1,\n",
    "    )"
   ]
  },
  {
   "cell_type": "code",
   "execution_count": 9,
   "metadata": {},
   "outputs": [
    {
     "name": "stdout",
     "output_type": "stream",
     "text": [
      "NOTE: tfr_morlet() is a legacy function. New code should use .compute_tfr(method=\"morlet\").\n"
     ]
    },
    {
     "name": "stderr",
     "output_type": "stream",
     "text": [
      "[Parallel(n_jobs=-1)]: Using backend LokyBackend with 8 concurrent workers.\n",
      "[Parallel(n_jobs=-1)]: Done  10 tasks      | elapsed:    0.5s\n",
      "[Parallel(n_jobs=-1)]: Done  64 tasks      | elapsed:    2.9s\n",
      "[Parallel(n_jobs=-1)]: Done 154 tasks      | elapsed:    6.0s\n"
     ]
    },
    {
     "name": "stdout",
     "output_type": "stream",
     "text": [
      "Applying baseline correction (mode: logratio)\n"
     ]
    },
    {
     "name": "stderr",
     "output_type": "stream",
     "text": [
      "[Parallel(n_jobs=-1)]: Done 256 out of 256 | elapsed:    9.7s finished\n"
     ]
    },
    {
     "data": {
      "text/html": [
       "<table class=\"table table-hover table-striped table-sm table-responsive small\">\n",
       "    <tr>\n",
       "        <th>Data type</th>\n",
       "        <td>Average Power Estimates</td>\n",
       "    </tr>\n",
       "    <tr>\n",
       "        <th>Data source</th>\n",
       "        <td>Epochs</td>\n",
       "    </tr>\n",
       "    <tr>\n",
       "        <th>Number of epochs</th>\n",
       "        <td>256</td>\n",
       "    </tr>\n",
       "    <tr>\n",
       "        <th>Dims</th>\n",
       "        <td>channel, freq, time</td>\n",
       "    </tr>\n",
       "    <tr>\n",
       "        <th>Estimation method</th>\n",
       "        <td>morlet</td>\n",
       "    </tr>\n",
       "    \n",
       "    <tr>\n",
       "        <th>Number of channels</th>\n",
       "        <td>256</td>\n",
       "    </tr>\n",
       "    <tr>\n",
       "        <th>Number of timepoints</th>\n",
       "        <td>769</td>\n",
       "    </tr>\n",
       "    <tr>\n",
       "        <th>Number of frequency bins</th>\n",
       "        <td>14</td>\n",
       "    </tr>\n",
       "    <tr>\n",
       "        <th>Frequency range</th>\n",
       "        <td>4.00 – 30.00 Hz</td>\n",
       "    </tr>\n",
       "</table>"
      ],
      "text/plain": [
       "<Average Power Estimates from Epochs (nave=540), morlet method | 256 channels × 14 freqs × 769 times, 4.0 - 30.0 Hz, -0.50 - 1.00 s, 21.4 MB>"
      ]
     },
     "execution_count": 9,
     "metadata": {},
     "output_type": "execute_result"
    }
   ],
   "source": [
    "# Using hanning window (single taper with fixed window length)\n",
    "time_window = 0.15  # 0.5-second window\n",
    "frequencies = np.arange(4, 31, 2)  \n",
    "n_cycles = frequencies * time_window \n",
    "\n",
    "# Perform time-frequency analysis with Hanning window\n",
    "powerVis = mne.time_frequency.tfr_morlet(\n",
    "    epochsVis,\n",
    "    freqs=frequencies,\n",
    "    n_cycles=n_cycles,\n",
    "    use_fft=True,\n",
    "    return_itc=False,\n",
    "    average=True,\n",
    "    decim=1,\n",
    "    n_jobs=-1\n",
    ")\n",
    "\n",
    "# Baseline correction\n",
    "baseline = (-0.5, 0)\n",
    "powerVis.apply_baseline(baseline=baseline, mode='logratio')  # 'logratio' is similar to 'relchange' in FieldTrip"
   ]
  },
  {
   "cell_type": "code",
   "execution_count": 10,
   "metadata": {},
   "outputs": [],
   "source": [
    "# Inspect the power spectrum for a single channel\n",
    "plt.figure(figsize=(10, 6))\n",
    "plt.imshow(\n",
    "    powerVis.data[20],  # Change the index as needed for the desired channel\n",
    "    aspect='auto',\n",
    "    extent=[powerVis.times[0], powerVis.times[-1], powerVis.freqs[0], powerVis.freqs[-1]],\n",
    "    origin='lower',\n",
    "    interpolation='nearest',\n",
    "    vmin = -0.75,\n",
    "    vmax = 0.75,\n",
    ")\n",
    "plt.colorbar(label='Power (dB)')\n",
    "plt.xlabel('Time (s)')\n",
    "plt.ylabel('Frequency (Hz)')\n",
    "plt.title('Time-Frequency Representation for Channel 20')\n",
    "plt.grid(False)\n",
    "plt.show()"
   ]
  },
  {
   "cell_type": "code",
   "execution_count": 11,
   "metadata": {},
   "outputs": [
    {
     "name": "stdout",
     "output_type": "stream",
     "text": [
      "Applying baseline correction (mode: mean)\n"
     ]
    },
    {
     "data": {
      "image/png": "[encoded data removed]",
      "text/plain": [
       "<Figure size 640x480 with 2 Axes>"
      ]
     },
     "execution_count": 11,
     "metadata": {},
     "output_type": "execute_result"
    }
   ],
   "source": [
    "# Plot the distribution of power\n",
    "powerVis.plot_topo(\n",
    "    baseline=(-0.5, 0),\n",
    "    title='Average power',\n",
    "    vmin = -1,\n",
    "    vmax = 1,\n",
    "    )"
   ]
  },
  {
   "cell_type": "code",
   "execution_count": 12,
   "metadata": {},
   "outputs": [
    {
     "name": "stdout",
     "output_type": "stream",
     "text": [
      "NOTE: tfr_multitaper() is a legacy function. New code should use .compute_tfr(method=\"multitaper\").\n"
     ]
    },
    {
     "name": "stderr",
     "output_type": "stream",
     "text": [
      "[Parallel(n_jobs=-1)]: Using backend LokyBackend with 8 concurrent workers.\n",
      "[Parallel(n_jobs=-1)]: Done  10 tasks      | elapsed:    0.5s\n",
      "[Parallel(n_jobs=-1)]: Done  64 tasks      | elapsed:    2.5s\n",
      "[Parallel(n_jobs=-1)]: Done 154 tasks      | elapsed:    6.0s\n"
     ]
    },
    {
     "name": "stdout",
     "output_type": "stream",
     "text": [
      "Applying baseline correction (mode: logratio)\n"
     ]
    },
    {
     "name": "stderr",
     "output_type": "stream",
     "text": [
      "[Parallel(n_jobs=-1)]: Done 256 out of 256 | elapsed:   11.4s finished\n"
     ]
    },
    {
     "data": {
      "text/html": [
       "<table class=\"table table-hover table-striped table-sm table-responsive small\">\n",
       "    <tr>\n",
       "        <th>Data type</th>\n",
       "        <td>Average Power Estimates</td>\n",
       "    </tr>\n",
       "    <tr>\n",
       "        <th>Data source</th>\n",
       "        <td>Epochs</td>\n",
       "    </tr>\n",
       "    <tr>\n",
       "        <th>Number of epochs</th>\n",
       "        <td>256</td>\n",
       "    </tr>\n",
       "    <tr>\n",
       "        <th>Dims</th>\n",
       "        <td>channel, freq, time</td>\n",
       "    </tr>\n",
       "    <tr>\n",
       "        <th>Estimation method</th>\n",
       "        <td>multitaper</td>\n",
       "    </tr>\n",
       "    \n",
       "    <tr>\n",
       "        <th>Number of channels</th>\n",
       "        <td>256</td>\n",
       "    </tr>\n",
       "    <tr>\n",
       "        <th>Number of timepoints</th>\n",
       "        <td>769</td>\n",
       "    </tr>\n",
       "    <tr>\n",
       "        <th>Number of frequency bins</th>\n",
       "        <td>14</td>\n",
       "    </tr>\n",
       "    <tr>\n",
       "        <th>Frequency range</th>\n",
       "        <td>4.00 – 30.00 Hz</td>\n",
       "    </tr>\n",
       "</table>"
      ],
      "text/plain": [
       "<Average Power Estimates from Epochs (nave=540), multitaper method | 256 channels × 14 freqs × 769 times, 4.0 - 30.0 Hz, -0.50 - 1.00 s, 21.4 MB>"
      ]
     },
     "execution_count": 12,
     "metadata": {},
     "output_type": "execute_result"
    }
   ],
   "source": [
    "## Multi-taper time-frequency analysis\n",
    "frequencies = np.arange(4, 31, 2)  \n",
    "n_cycles = 7.0 / frequencies  # Variable time window length: 5 cycles per frequency\n",
    "\n",
    "# Perform DPSS multitaper TFR\n",
    "powerVis_dpss = mne.time_frequency.tfr_multitaper(\n",
    "    epochsVis,\n",
    "    freqs=frequencies,\n",
    "    n_cycles=n_cycles,\n",
    "    time_bandwidth=2.0,  # DPSS with wider spectral smoothing (adjust as needed)\n",
    "    use_fft=True,\n",
    "    return_itc=False,\n",
    "    average=True,\n",
    "    decim=1,\n",
    "    n_jobs=-1\n",
    ")\n",
    "\n",
    "# Baseline correction\n",
    "baseline = (-0.5, 0)\n",
    "powerVis_dpss.apply_baseline(baseline=baseline, mode='logratio')  # 'logratio' is similar to 'relchange' in FieldTrip"
   ]
  },
  {
   "cell_type": "code",
   "execution_count": 13,
   "metadata": {},
   "outputs": [],
   "source": [
    "# Inspect the power spectrum for a single channel\n",
    "plt.figure(figsize=(10, 6))\n",
    "plt.imshow(\n",
    "    powerVis_dpss.data[20],  # Change the index as needed for the desired channel\n",
    "    aspect='auto',\n",
    "    extent=[powerVis_dpss.times[0], powerVis_dpss.times[-1], powerVis_dpss.freqs[0], powerVis_dpss.freqs[-1]],\n",
    "    origin='lower',\n",
    "    interpolation='nearest'\n",
    ")\n",
    "plt.colorbar(label='Power (dB)')\n",
    "plt.xlabel('Time (s)')\n",
    "plt.ylabel('Frequency (Hz)')\n",
    "plt.title('Time-Frequency Representation for Channel 20')\n",
    "plt.grid(False)\n",
    "plt.show()"
   ]
  },
  {
   "cell_type": "code",
   "execution_count": 14,
   "metadata": {},
   "outputs": [
    {
     "name": "stdout",
     "output_type": "stream",
     "text": [
      "NOTE: tfr_morlet() is a legacy function. New code should use .compute_tfr(method=\"morlet\").\n"
     ]
    },
    {
     "name": "stderr",
     "output_type": "stream",
     "text": [
      "[Parallel(n_jobs=-1)]: Using backend LokyBackend with 8 concurrent workers.\n",
      "[Parallel(n_jobs=-1)]: Done  10 tasks      | elapsed:    1.7s\n",
      "[Parallel(n_jobs=-1)]: Done  64 tasks      | elapsed:    5.8s\n",
      "[Parallel(n_jobs=-1)]: Done 154 tasks      | elapsed:   13.3s\n",
      "[Parallel(n_jobs=-1)]: Done 256 out of 256 | elapsed:   21.2s finished\n"
     ]
    }
   ],
   "source": [
    "## Now let's compute Inter-trial phase coherence (ITPC)\n",
    "frequencies = np.arange(4, 31, 1)  \n",
    "n_cycles = frequencies / 2  # Morlet wavelet width similar to cfg.width=5 (adjustable)\n",
    "\n",
    "# Compute the TFR with Morlet wavelets to get Fourier coefficients\n",
    "power, itc = mne.time_frequency.tfr_morlet(\n",
    "    epochsVis,\n",
    "    freqs=frequencies,\n",
    "    n_cycles=n_cycles,\n",
    "    use_fft=True,\n",
    "    return_itc=True,  # Directly compute inter-trial coherence\n",
    "    average=True,  # Keep individual trials to compute ITC\n",
    "    n_jobs=-1\n",
    ")\n"
   ]
  },
  {
   "cell_type": "code",
   "execution_count": 15,
   "metadata": {},
   "outputs": [
    {
     "name": "stdout",
     "output_type": "stream",
     "text": [
      "Applying baseline correction (mode: logratio)\n"
     ]
    }
   ],
   "source": [
    "# Visualize the ITC\n",
    "itc.plot([20],\n",
    "    baseline=(-0.5, 0), mode='logratio', title=\"Inter-Trial Coherence (ITC)\")\n",
    "plt.show()"
   ]
  }
 ],
 "metadata": {
  "kernelspec": {
   "display_name": "eegmeg",
   "language": "python",
   "name": "python3"
  },
  "language_info": {
   "codemirror_mode": {
    "name": "ipython",
    "version": 3
   },
   "file_extension": ".py",
   "mimetype": "text/x-python",
   "name": "python",
   "nbconvert_exporter": "python",
   "pygments_lexer": "ipython3",
   "version": "3.9.19"
  }
 },
 "nbformat": 4,
 "nbformat_minor": 2
}
