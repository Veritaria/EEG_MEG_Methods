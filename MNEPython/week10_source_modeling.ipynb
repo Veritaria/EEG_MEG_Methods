{
 "cells": [
  {
   "cell_type": "code",
   "execution_count": null,
   "metadata": {},
   "outputs": [],
   "source": [
    "import os, mne, socket\n",
    "from mne_bids import BIDSPath, read_raw_bids\n",
    "import pandas as pd\n",
    "import nibabel as nib\n",
    "import numpy as np\n",
    "\n",
    "%matplotlib qt\n",
    "\n",
    "# Get the hostname\n",
    "hostname = socket.gethostname()\n",
    "\n",
    "if 'hpc' in hostname:\n",
    "    # You are running your code on HPC\n",
    "    curr_dir = os.getcwd()\n",
    "    path_parts = curr_dir.split(os.sep)\n",
    "    dataPath = os.path.join(os.sep, 'scratch', 'work', 'courses', 'PSYCH-GA-3405-2024fa')\n",
    "elif hostname == 'sebastian_mac':\n",
    "    # You are Sebastian\n",
    "    # Setting up paths for data\n",
    "    mydir = os.getcwd()\n",
    "    path_parts = mydir.split(os.sep)\n",
    "    idcs = [i for i, c in enumerate(mydir) if c == os.sep]\n",
    "    dataPath = mydir[:idcs[-2]]\n",
    "else:\n",
    "    # You are running on your device with Google drive path\n",
    "    # Define the paths and initialize Fieldtrip\n",
    "    my_user_id = 'mdd9787'  # change this to your netID\n",
    "    curr_dir = os.getcwd()\n",
    "    path_parts = curr_dir.split(os.sep)\n",
    "    base_dir = os.path.join(os.sep, *path_parts[:3])\n",
    "    dataPath = os.path.join(base_dir, 'Library', 'CloudStorage', f'GoogleDrive-{my_user_id}@nyu.edu', 'My Drive', 'Coursework', 'EEG MEG methods', 'ClassData')\n",
    "\n",
    "eegRoot = os.path.join(dataPath, 'EEGBids')"
   ]
  },
  {
   "cell_type": "code",
   "execution_count": null,
   "metadata": {},
   "outputs": [],
   "source": [
    "## Load data\n",
    "groupName = 'GroupD'  # Change group name to analyze different dataset (valid IDs: GroupA, GroupC, GroupD)\n",
    "userName = 'mrugank'  # Make sure to ensure that you are writing to your derivatives \n",
    "taskName = 'oddball'\n",
    "\n",
    "# Get subject code for your group\n",
    "groupMap = {'GroupA': '001', 'GroupC': '003', 'GroupD': '004'}\n",
    "subjCode = groupMap[groupName]\n",
    "subject = f'sub-{subjCode}'\n",
    "\n",
    "dataPath = os.path.join(eegRoot, f'sub-{subjCode}', 'eeg')\n",
    "derivPath = os.path.join(eegRoot, 'derivatives', userName, 'preprocessing', f'sub-{subjCode}')\n",
    "\n",
    "freesurferSubDir = os.path.join(eegRoot, f'sub-{subjCode}', 'anat')\n",
    "if not os.path.exists(derivPath):\n",
    "    os.makedirs(derivPath)\n",
    "\n",
    "saveRoot = f'sub-{subjCode}_task-{taskName}_'\n",
    "\n",
    "# bdfPath = os.path.join(dataPath, f'{saveRoot}eeg.bdf')\n",
    "\n",
    "# Load the data\n",
    "# raw = mne.io.read_raw_bdf(bdfPath, preload=False)\n",
    "raw = read_raw_bids(BIDSPath(subject=subjCode, task=taskName, root=eegRoot))\n",
    "# Set channel types for EOG\n",
    "raw.set_channel_types({'EXG1': 'eog', 'EXG2': 'eog', 'EXG3': 'eog', 'EXG4': 'eog'})\n",
    "# Remove unwanted channels\n",
    "unwanted_channels = ['EXG5', 'EXG6', 'EXG7', 'EXG8', 'GSR1', 'GSR2', 'Erg1', 'Erg2', 'Resp', 'Plet', 'Temp']\n",
    "raw.drop_channels(unwanted_channels)\n"
   ]
  }
 ],
 "metadata": {
  "kernelspec": {
   "display_name": "eegmeg",
   "language": "python",
   "name": "python3"
  },
  "language_info": {
   "name": "python",
   "version": "3.9.19"
  }
 },
 "nbformat": 4,
 "nbformat_minor": 2
}
