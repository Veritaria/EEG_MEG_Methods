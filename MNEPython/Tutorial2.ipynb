{
 "cells": [
  {
   "cell_type": "code",
   "execution_count": null,
   "metadata": {},
   "outputs": [],
   "source": [
    "# Load modules necessary\n",
    "import os\n",
    "import numpy as np\n",
    "import matplotlib.pyplot as plt\n",
    "import mne\n",
    "import pandas as pd\n",
    "from scipy.signal import detrend\n",
    "\n",
    "%matplotlib qt"
   ]
  },
  {
   "cell_type": "code",
   "execution_count": null,
   "metadata": {},
   "outputs": [],
   "source": [
    "# Creating a fake channel with a polynomial trend\n",
    "fake_data = raw.get_data()[0]\n",
    "t = np.linspace(0, 1, len(fake_data))\n",
    "\n",
    "np.random.seed(42)\n",
    "trend = np.random.randn(3)\n",
    "fake_data += 4e-3 * np.polyval(trend, t)\n",
    "\n",
    "# Let us look at different ways to remove trend from the data\n",
    "# First, we can simply mean-center the data\n",
    "# This is done by subtracting the mean of the data from the data\n",
    "fake_data_centered = fake_data - np.mean(fake_data)\n",
    "\n",
    "# Second, we can remove a linear trend from the data\n",
    "# This can be done using detrend() function of numpy\n",
    "fake_data_detrended = detrend(fake_data, type='linear')\n",
    "\n",
    "# Next we can remove a polynomial trend from the data\n",
    "# This is done by fitting a polynomial model to the data and subtracting the model from the data\n",
    "# We can use the polyfit() function of numpy to fit a polynomial model to the data\n",
    "# The polyfit() function returns the coefficients of the polynomial model\n",
    "# We can use the polyval() function of numpy to evaluate the polynomial model at the data points\n",
    "# We can then subtract the polynomial model from the data\n",
    "trend = np.polyfit(t, fake_data, 3)\n",
    "fake_data_detrended2 = fake_data - np.polyval(trend, t)\n",
    "\n",
    "# Plot the original data and the detrended data\n",
    "f, axs = plt.subplots(2, 2, figsize=(10, 10))\n",
    "axs[0, 0].plot(t, fake_data)\n",
    "axs[0, 0].set_title('Original Data')\n",
    "axs[0, 1].plot(t, fake_data_centered)\n",
    "axs[0, 1].set_title('Mean-Centered Data')\n",
    "axs[1, 0].plot(t, fake_data_detrended)\n",
    "axs[1, 0].set_title('Linear Detrended Data')\n",
    "axs[1, 1].plot(t, fake_data_detrended2)\n",
    "axs[1, 1].set_title('Polynomial Detrended Data')\n",
    "plt.show()"
   ]
  }
 ],
 "metadata": {
  "language_info": {
   "name": "python"
  }
 },
 "nbformat": 4,
 "nbformat_minor": 2
}
