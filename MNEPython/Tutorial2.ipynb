{
 "cells": [
  {
   "cell_type": "code",
   "execution_count": 1,
   "metadata": {},
   "outputs": [],
   "source": [
    "# Load modules necessary\n",
    "import os\n",
    "import numpy as np\n",
    "import matplotlib.pyplot as plt\n",
    "import mne\n",
    "import pandas as pd\n",
    "from scipy.signal import detrend\n",
    "\n",
    "%matplotlib qt"
   ]
  },
  {
   "cell_type": "markdown",
   "metadata": {},
   "source": [
    "## Load sample dataset\n",
    "\n",
    "##### For EEG dataset, we will use CHB-MIT Scalp EEG Dataset from here: https://physionet.org/content/chbmit/1.0.0/chb01/#files-panel\n",
    "\n",
    "##### The original dataset contains 22 subjects. However, here in this tutorial we will explore data from Subject 01\n",
    "##### You can download the dataset from Brightspace"
   ]
  },
  {
   "cell_type": "markdown",
   "metadata": {},
   "source": [
    "# Filters as matrix multiplications"
   ]
  },
  {
   "cell_type": "code",
   "execution_count": 6,
   "metadata": {},
   "outputs": [
    {
     "name": "stdout",
     "output_type": "stream",
     "text": [
      "Extracting parameters from ../../Datasets/iEEG/sub-01/eeg/sub-01_task-daf_eeg_filtered.vhdr...\n",
      "Setting channel info structure...\n",
      "Reading 0 ... 244237  =      0.000 ...   976.948 secs...\n"
     ]
    }
   ],
   "source": [
    "# Path to the EEG file\n",
    "eegPath = '../../Datasets/iEEG/sub-01/eeg/sub-01_task-daf_eeg_filtered.vhdr'\n",
    "\n",
    "# Load the EEG file using MNE\n",
    "# MNE has different read formats for different EEG file types\n",
    "# Here we are using read_raw_edf to read the EEG file\n",
    "# preload=True loads the data into memory (default is False, which loads the data when needed)\n",
    "raw = mne.io.read_raw_brainvision(eegPath, preload=True)\n",
    "elecPos = pd.read_csv('../../Datasets/iEEG/sub-01/eeg/sub-01_electrodes.tsv', sep='\\t')\n",
    "# Add fiducials\n",
    "fiducials = pd.DataFrame({\n",
    "    'name': ['Nz', 'LPA', 'RPA'],\n",
    "    'x': [-4.129838157917329e-18, -0.0729282673627754, 0.08278152042487033],\n",
    "    'y': [0.10011015398430487, 3.008505424862354e-18, -3.414981080487009e-18],\n",
    "    'z': [-5.7777898331617076e-33, 3.851859888774472e-34, 3.4666738998970245e-33]\n",
    "})\n",
    "\n",
    "# Concatenate the original electrode positions with the fiducials\n",
    "elecPos = pd.concat([elecPos, fiducials], ignore_index=True)\n",
    "\n",
    "montage = mne.channels.make_dig_montage(\n",
    "    ch_pos=dict(zip(elecPos['name'], elecPos[['x', 'y', 'z']].values)),\n",
    "    coord_frame='head'\n",
    ")\n",
    "raw.set_montage(montage)\n",
    "\n",
    "# Extract data from raw\n",
    "data = raw.get_data()\n",
    "n_channels = data.shape[0]\n",
    "n_samples = data.shape[1]"
   ]
  },
  {
   "cell_type": "code",
   "execution_count": 9,
   "metadata": {},
   "outputs": [
    {
     "name": "stdout",
     "output_type": "stream",
     "text": [
      "[0. 0. 1. 0. 0. 0. 0. 0. 0. 0. 0. 0. 0. 0. 0. 0. 0. 0. 0. 0. 0. 0. 0. 0.\n",
      " 0. 0. 0. 0. 0. 0. 0. 0. 0. 0. 0. 0. 0. 0. 0. 0. 0. 0. 0. 0. 0. 0. 0. 0.\n",
      " 0. 0. 0. 0. 0. 0. 0. 0. 0. 0. 0. 0. 0. 0. 0. 0. 0. 0.]\n"
     ]
    }
   ],
   "source": [
    "# Select an electrode via vector multiplication\n",
    "selectElecIdx = 2\n",
    "selectElecVec = np.zeros(n_channels)\n",
    "# Try creating vector for the selected electrode\n",
    "selectElecVec[selectElecIdx] = 1\n",
    "selectElecData = selectElecVec @ data\n",
    "\n",
    "print(selectElecVec)"
   ]
  },
  {
   "cell_type": "code",
   "execution_count": 11,
   "metadata": {},
   "outputs": [
    {
     "name": "stdout",
     "output_type": "stream",
     "text": [
      "[[1. 0. 0. ... 0. 0. 0.]\n",
      " [0. 0. 0. ... 0. 0. 0.]\n",
      " [0. 0. 1. ... 0. 0. 0.]\n",
      " ...\n",
      " [0. 0. 0. ... 0. 0. 0.]\n",
      " [0. 0. 0. ... 0. 0. 0.]\n",
      " [0. 0. 0. ... 0. 0. 0.]]\n"
     ]
    }
   ],
   "source": [
    "# Select a subset of electrodes via matrix multiplication\n",
    "# Let's select channels 1, 3, and 5\n",
    "selected_channels = [0, 2, 4]\n",
    "ChannelMultiplier = np.zeros((n_channels, n_channels))\n",
    "# Make the ChannelMultiplier select only the selected channels\n",
    "for i in range(n_channels):\n",
    "    if i in selected_channels:\n",
    "        ChannelMultiplier[i, i] = 1\n",
    "print(ChannelMultiplier)\n",
    "\n",
    "data_selected = ChannelMultiplier @ data\n",
    "\n",
    "plt.figure()\n",
    "plt.imshow(ChannelMultiplier, aspect='auto')\n",
    "plt.show()"
   ]
  },
  {
   "cell_type": "code",
   "execution_count": 17,
   "metadata": {},
   "outputs": [
    {
     "name": "stdout",
     "output_type": "stream",
     "text": [
      "[0.         0.         0.         0.         0.         0.\n",
      " 0.         0.         0.         0.         0.         0.\n",
      " 0.         0.         0.         0.16666667 0.16666667 0.16666667\n",
      " 0.         0.         0.         0.         0.         0.\n",
      " 0.         0.         0.         0.         0.         0.\n",
      " 0.         0.         0.         0.         0.         0.\n",
      " 0.         0.         0.         0.         0.         0.\n",
      " 0.         0.         0.         0.         0.16666667 0.16666667\n",
      " 0.16666667 0.         0.         0.         0.         0.\n",
      " 0.         0.         0.         0.         0.         0.\n",
      " 0.         0.         0.         0.         0.         0.        ]\n",
      "(244238,)\n"
     ]
    }
   ],
   "source": [
    "# Average an electrode-ROI via vector multiplication\n",
    "# Let's average across occipital electrodes\n",
    "elecList = ['O1', 'Oz', 'O2', 'PO3', 'POz', 'PO4']\n",
    "# Get indices for the specified electrodes\n",
    "elecIdx = [elecPos[elecPos['name'] == elec].index[0] for elec in elecList]\n",
    "elecVec = np.zeros(n_channels)\n",
    "# Try creating vector for the selected electrodes to average\n",
    "elecVec[elecIdx] = 1.0 / len(elecIdx)\n",
    "elecData = np.dot(elecVec, data)\n",
    "\n",
    "print(elecVec)\n",
    "print(elecData.shape)"
   ]
  },
  {
   "cell_type": "code",
   "execution_count": 18,
   "metadata": {},
   "outputs": [
    {
     "name": "stdout",
     "output_type": "stream",
     "text": [
      "[[1.  0.  0.  ... 0.  0.  0. ]\n",
      " [0.5 0.  0.5 ... 0.  0.  0. ]\n",
      " [0.  0.  1.  ... 0.  0.  0. ]\n",
      " ...\n",
      " [0.  0.  0.  ... 1.  0.  0. ]\n",
      " [0.  0.  0.  ... 0.  1.  0. ]\n",
      " [0.  0.  0.  ... 0.  0.  1. ]]\n"
     ]
    }
   ],
   "source": [
    "# Channel interpolation via matrix multiplication\n",
    "# Let's interpolate channel 2 using channels 1 and 3\n",
    "interp_channel = 1\n",
    "InterpMultiplier = np.eye(n_channels)\n",
    "# Make the InterpMultiplier interpolate the selected channel\n",
    "InterpMultiplier[interp_channel, interp_channel] = 0\n",
    "InterpMultiplier[interp_channel, interp_channel-1] = 0.5\n",
    "InterpMultiplier[interp_channel, interp_channel+1] = 0.5\n",
    "print(InterpMultiplier)\n",
    "data_interp = InterpMultiplier @ data\n",
    "\n",
    "plt.figure()\n",
    "plt.imshow(InterpMultiplier, aspect='auto')\n",
    "plt.show()\n",
    "\n",
    "# # Plot the interpolated EEG data\n",
    "nrows = n_channels\n",
    "ncols = 1\n",
    "f, axs = plt.subplots(nrows, ncols, figsize=(15, 10))\n",
    "axs = axs.flatten()\n",
    "for i in range(n_channels):\n",
    "    ax = axs.flatten()[i]\n",
    "    ax.plot(data_interp[i, :])\n",
    "    ax.set_title(f\"Channel {i+1}\")\n",
    "    ax.set_xlabel(\"Time\")\n",
    "    ax.set_ylabel(\"Amplitude\")\n",
    "plt.show()"
   ]
  },
  {
   "cell_type": "code",
   "execution_count": 15,
   "metadata": {},
   "outputs": [
    {
     "name": "stdout",
     "output_type": "stream",
     "text": [
      "[[1. 0. 0. ... 0. 0. 0.]\n",
      " [0. 1. 0. ... 0. 0. 0.]\n",
      " [0. 0. 1. ... 0. 0. 0.]\n",
      " ...\n",
      " [0. 0. 0. ... 1. 0. 0.]\n",
      " [0. 0. 0. ... 0. 1. 0.]\n",
      " [0. 0. 0. ... 0. 0. 1.]]\n"
     ]
    }
   ],
   "source": [
    "# Channel 1 and 3 have been plugged into wrong position in the cap\n",
    "# Swap the channels using matrix multiplication\n",
    "SwapMultiplier = np.eye(n_channels)\n",
    "# Make the SwapMultiplier swap the selected channels\n",
    "SwapMultiplier[2, 4] = 1\n",
    "SwapMultiplier[4, 2] = 1\n",
    "SwapMultiplier[2, 2] = 0\n",
    "SwapMultiplier[4, 4] = 0\n",
    "\n",
    "data_swapped = SwapMultiplier @ data\n",
    "\n",
    "print(SwapMultiplier)\n",
    "\n",
    "plt.figure()\n",
    "plt.imshow(SwapMultiplier, aspect='auto')\n",
    "plt.show()"
   ]
  },
  {
   "cell_type": "code",
   "execution_count": null,
   "metadata": {},
   "outputs": [],
   "source": [
    "# Re-referencing data to a single channel using matrix multiplication\n",
    "# Let's use channel 10 as the reference channel\n",
    "ref_channel = 9\n",
    "ReferenceMultiplier = np.eye(n_channels)\n",
    "# Make the ReferenceMultiplier re-reference the data to the selected channel\n",
    "...\n",
    "\n",
    "print(ReferenceMultiplier)\n",
    "data_single_ref = ReferenceMultiplier @ data\n",
    "\n",
    "plt.figure()\n",
    "plt.imshow(ReferenceMultiplier, aspect='auto')\n",
    "plt.show()\n",
    "# # Plot the single re-referenced EEG data\n",
    "# f, axs = plt.subplots(nrows, ncols, figsize=(15, 10))\n",
    "# axs = axs.flatten()\n",
    "# for i in range(n_channels):\n",
    "#     ax = axs.flatten()[i]\n",
    "#     ax.plot(data_single_ref[i, :])\n",
    "#     ax.set_title(f\"Channel {i+1}\")\n",
    "#     ax.set_xlabel(\"Time\")\n",
    "#     ax.set_ylabel(\"Amplitude\")"
   ]
  },
  {
   "cell_type": "code",
   "execution_count": null,
   "metadata": {},
   "outputs": [],
   "source": [
    "# Average Re-referencing via matrix multiplication\n",
    "MeanMultiplier = ...\n",
    "print(MeanMultiplier)\n",
    "data_re_ref = MeanMultiplier @ data\n",
    "\n",
    "# # Plot the re-referenced EEG data\n",
    "# f, axs = plt.subplots(nrows, ncols, figsize=(15, 10))\n",
    "# axs = axs.flatten()\n",
    "# for i in range(n_channels):\n",
    "#     ax = axs.flatten()[i]\n",
    "#     ax.plot(data_re_ref[i, :])\n",
    "#     ax.set_title(f\"Channel {i+1}\")\n",
    "#     ax.set_xlabel(\"Time\")\n",
    "#     ax.set_ylabel(\"Amplitude\")\n",
    "\n",
    "plt.figure()\n",
    "plt.imshow(MeanMultiplier, aspect='auto')\n",
    "plt.show()"
   ]
  },
  {
   "cell_type": "code",
   "execution_count": 3,
   "metadata": {},
   "outputs": [],
   "source": [
    "# Creating a fake channel with a polynomial trend\n",
    "fake_data = raw.get_data()[0]\n",
    "t = np.linspace(0, 1, len(fake_data))\n",
    "\n",
    "np.random.seed(42)\n",
    "trend = np.random.randn(3)\n",
    "fake_data += 4e-3 * np.polyval(trend, t)\n",
    "\n",
    "# Let us look at different ways to remove trend from the data\n",
    "# First, we can simply mean-center the data\n",
    "# This is done by subtracting the mean of the data from the data\n",
    "fake_data_centered = fake_data - np.mean(fake_data)\n",
    "\n",
    "# Second, we can remove a linear trend from the data\n",
    "# This can be done using detrend() function of numpy\n",
    "fake_data_detrended = detrend(fake_data, type='linear')\n",
    "\n",
    "# Next we can remove a polynomial trend from the data\n",
    "# This is done by fitting a polynomial model to the data and subtracting the model from the data\n",
    "# We can use the polyfit() function of numpy to fit a polynomial model to the data\n",
    "# The polyfit() function returns the coefficients of the polynomial model\n",
    "# We can use the polyval() function of numpy to evaluate the polynomial model at the data points\n",
    "# We can then subtract the polynomial model from the data\n",
    "trend = np.polyfit(t, fake_data, 3)\n",
    "fake_data_detrended2 = fake_data - np.polyval(trend, t)\n",
    "\n",
    "# Plot the original data and the detrended data\n",
    "f, axs = plt.subplots(2, 2, figsize=(10, 10))\n",
    "axs[0, 0].plot(t, fake_data)\n",
    "axs[0, 0].set_title('Original Data')\n",
    "axs[0, 1].plot(t, fake_data_centered)\n",
    "axs[0, 1].set_title('Mean-Centered Data')\n",
    "axs[1, 0].plot(t, fake_data_detrended)\n",
    "axs[1, 0].set_title('Linear Detrended Data')\n",
    "axs[1, 1].plot(t, fake_data_detrended2)\n",
    "axs[1, 1].set_title('Polynomial Detrended Data')\n",
    "plt.show()"
   ]
  },
  {
   "cell_type": "code",
   "execution_count": null,
   "metadata": {},
   "outputs": [],
   "source": [
    "# Compute power at specific frequency for a single channel by taking inner product with a complex sine wave\n",
    "# Let us compute power at between 50-70 Hz for occipital electrode O1\n",
    "elecIdx = [elecPos[elecPos['name'] == 'O1'].index[0]][0]\n",
    "\n",
    "freqs = np.arange(50, 70, 1) \n",
    "print(len(freqs))\n",
    "powerVec = np.zeros(len(freqs))\n",
    "timeToPlot = 2000 # Time in seconds to plot\n",
    "t = raw.times[raw.times < timeToPlot]\n",
    "X = data[elecIdx, raw.times < timeToPlot]\n",
    "\n",
    "# Try computing power at specific frequency for a single channel using inner product with a complex sine wave\n",
    "\n",
    "plt.figure()\n",
    "plt.subplot(2, 1, 1)\n",
    "plt.plot(t, X)\n",
    "plt.xlabel('Time (s)')\n",
    "plt.ylabel('Amplitude (uV)')\n",
    "\n",
    "plt.subplot(2, 1, 2)\n",
    "plt.bar(freqs, powerVec)\n",
    "plt.xlabel('Frequency (Hz)')\n",
    "plt.ylabel('Power')\n",
    "plt.show()"
   ]
  },
  {
   "cell_type": "code",
   "execution_count": null,
   "metadata": {},
   "outputs": [],
   "source": [
    "# Let us compute power at between 5-25 Hz for occipital electrode O1\n",
    "\n",
    "# Repeat the same for 5-25 Hz"
   ]
  },
  {
   "cell_type": "code",
   "execution_count": null,
   "metadata": {},
   "outputs": [],
   "source": [
    "# We can also compute alpha power using MNE and visualize as a topoplot\n",
    "freq_range = (8, 12)  # 8-12 Hz\n",
    "\n",
    "timeToPlot = 2000\n",
    "t = raw.times[raw.times < timeToPlot]\n",
    "X = data[:, raw.times < timeToPlot]\n",
    "\n",
    "psds, freqs = mne.time_frequency.psd_array_multitaper(X, sfreq=raw.info['sfreq'], fmin=freq_range[0], fmax=freq_range[1])\n",
    "alpha_power = psds.mean(axis=1)\n",
    "\n",
    "# Exclude the non-EEG channels\n",
    "picks = mne.pick_types(raw.info, eeg=True, exclude=['leog', 'reog', 'egg', 'audio'])\n",
    "\n",
    "# Select alpha power for only EEG channels\n",
    "alpha_power_eeg = alpha_power[picks]\n",
    "info_eeg = mne.pick_info(raw.info, picks)\n",
    "\n",
    "# Plot the topomap for alpha power (only using the EEG channels)\n",
    "mne.viz.plot_topomap(alpha_power_eeg, info_eeg, cmap='RdBu_r', contours=0)"
   ]
  }
 ],
 "metadata": {
  "kernelspec": {
   "display_name": "eegmeg",
   "language": "python",
   "name": "python3"
  },
  "language_info": {
   "codemirror_mode": {
    "name": "ipython",
    "version": 3
   },
   "file_extension": ".py",
   "mimetype": "text/x-python",
   "name": "python",
   "nbconvert_exporter": "python",
   "pygments_lexer": "ipython3",
   "version": "3.10.14"
  }
 },
 "nbformat": 4,
 "nbformat_minor": 2
}
