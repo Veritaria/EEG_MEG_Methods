{
 "cells": [
  {
   "cell_type": "code",
   "execution_count": 1,
   "metadata": {},
   "outputs": [
    {
     "name": "stdout",
     "output_type": "stream",
     "text": [
      "Intel MKL WARNING: Support of Intel(R) Streaming SIMD Extensions 4.2 (Intel(R) SSE4.2) enabled only processors has been deprecated. Intel oneAPI Math Kernel Library 2025.0 will require Intel(R) Advanced Vector Extensions (Intel(R) AVX) instructions.\n",
      "Intel MKL WARNING: Support of Intel(R) Streaming SIMD Extensions 4.2 (Intel(R) SSE4.2) enabled only processors has been deprecated. Intel oneAPI Math Kernel Library 2025.0 will require Intel(R) Advanced Vector Extensions (Intel(R) AVX) instructions.\n"
     ]
    }
   ],
   "source": [
    "# Load modules necessary\n",
    "import os\n",
    "import numpy as np\n",
    "import matplotlib.pyplot as plt\n",
    "import mne\n",
    "import pandas as pd\n",
    "%matplotlib qt\n",
    "# %matplotlib ipympl"
   ]
  },
  {
   "cell_type": "code",
   "execution_count": 2,
   "metadata": {},
   "outputs": [],
   "source": [
    "### MORLET WAVELETS\n",
    "# Define the parameters for the Morlet wavelet\n",
    "f0_10 = 10  # Central frequency of the wavelet\n",
    "f0_15 = 15  # Central frequency of the wavelet\n",
    "SR = 100\n",
    "sigma = 1  # Standard deviation of the Gaussian window\n",
    "t = np.arange(-5, 5 + 1/SR, 1/SR)  # Time vector\n",
    "N_ml = len(t)\n",
    "\n",
    "# Create the Morlet wavelet (10Hz)\n",
    "A10 = 1 / (np.sqrt(sigma * np.sqrt(np.pi)) * np.sqrt(f0_10))  # amplitude scaling for the frequency-specific Morlet wavelet\n",
    "morlet_wavelet10 = A10 * np.exp(2 * 1j * np.pi * f0_10 * t) * np.exp(-t**2 / (2 * sigma**2))\n",
    "\n",
    "# Create the Morlet wavelet (15Hz)\n",
    "A15 = 1 / (np.sqrt(sigma * np.sqrt(np.pi)) * np.sqrt(f0_15))  # amplitude scaling for the frequency-specific Morlet wavelet\n",
    "morlet_wavelet15 = A15 * np.exp(2 * 1j * np.pi * f0_15 * t) * np.exp(-t**2 / (2 * sigma**2))\n",
    "\n",
    "plt.figure(figsize=(10, 3))\n",
    "plt.subplot(1, 2, 1)\n",
    "plt.title('Morlet Wavelet (10Hz)')\n",
    "plt.xlabel('Sample Index')\n",
    "plt.ylabel('Amplitude')\n",
    "plt.plot(t, np.real(morlet_wavelet10))\n",
    "plt.xlim([t[0], t[-1]])\n",
    "\n",
    "plt.subplot(1, 2, 2)\n",
    "plt.title('Morlet Wavelet (15Hz)')\n",
    "plt.xlabel('Sample Index')\n",
    "plt.ylabel('Amplitude')\n",
    "plt.plot(t, np.real(morlet_wavelet15))\n",
    "plt.xlim([t[0], t[-1]])\n",
    "plt.show()"
   ]
  },
  {
   "cell_type": "markdown",
   "metadata": {},
   "source": [
    "## Load EEG"
   ]
  },
  {
   "cell_type": "code",
   "execution_count": 18,
   "metadata": {},
   "outputs": [
    {
     "name": "stdout",
     "output_type": "stream",
     "text": [
      "Extracting parameters from ../../Datasets/EEG/sub-01/eeg/sub-01_task-daf_eeg_filtered.vhdr...\n",
      "Setting channel info structure...\n",
      "Reading 0 ... 244237  =      0.000 ...   976.948 secs...\n"
     ]
    }
   ],
   "source": [
    "# Path to the EEG file\n",
    "eegPath = '../../Datasets/EEG/sub-01/eeg/sub-01_task-daf_eeg_filtered.vhdr'\n",
    "\n",
    "# Load the EEG file using MNE\n",
    "# MNE has different read formats for different EEG file types\n",
    "# Here we are using read_raw_edf to read the EEG file\n",
    "# preload=True loads the data into memory (default is False, which loads the data when needed)\n",
    "raw = mne.io.read_raw_brainvision(eegPath, preload=True)\n",
    "elecPos = pd.read_csv('../../Datasets/EEG/sub-01/eeg/sub-01_electrodes.tsv', sep='\\t')\n",
    "# Add fiducials\n",
    "fiducials = pd.DataFrame({\n",
    "    'name': ['Nz', 'LPA', 'RPA'],\n",
    "    'x': [-4.129838157917329e-18, -0.0729282673627754, 0.08278152042487033],\n",
    "    'y': [0.10011015398430487, 3.008505424862354e-18, -3.414981080487009e-18],\n",
    "    'z': [-5.7777898331617076e-33, 3.851859888774472e-34, 3.4666738998970245e-33]\n",
    "})\n",
    "\n",
    "# Concatenate the original electrode positions with the fiducials\n",
    "elecPos = pd.concat([elecPos, fiducials], ignore_index=True)\n",
    "\n",
    "montage = mne.channels.make_dig_montage(\n",
    "    ch_pos=dict(zip(elecPos['name'], elecPos[['x', 'y', 'z']].values)),\n",
    "    coord_frame='head'\n",
    ")\n",
    "raw.set_montage(montage)\n",
    "\n",
    "data = raw.get_data()\n",
    "n_channels = data.shape[0]\n",
    "n_samples = data.shape[1]"
   ]
  },
  {
   "cell_type": "code",
   "execution_count": 19,
   "metadata": {},
   "outputs": [],
   "source": [
    "# convolve your EEG data with a Morlet wavelet\n",
    "signal = data[2, :10000]\n",
    "conv10 = np.convolve(signal, morlet_wavelet10, mode='same')\n",
    "conv15 = np.convolve(signal, morlet_wavelet15, mode='same')\n",
    "\n",
    "plt.figure(figsize=(5, 7))\n",
    "plt.subplot(3, 1, 1)\n",
    "plt.title('Convolution with Morlet Wavelet (10Hz)')\n",
    "plt.xlabel('Sample Index')\n",
    "plt.ylabel('Amplitude')\n",
    "plt.plot(np.real(conv10))\n",
    "plt.xlim([0, len(signal)])\n",
    "\n",
    "plt.subplot(3, 1, 2)\n",
    "plt.title('Convolution with Morlet Wavelet (15Hz)')\n",
    "plt.xlabel('Sample Index')\n",
    "plt.ylabel('Amplitude')\n",
    "plt.plot(np.real(conv15),)\n",
    "plt.xlim([0, len(signal)])\n",
    "\n",
    "plt.subplot(3, 1, 3)\n",
    "plt.title('Original Signal')\n",
    "plt.xlabel('Sample Index')\n",
    "plt.ylabel('Amplitude')\n",
    "plt.plot(signal)\n",
    "plt.xlim([0, len(signal)])\n",
    "\n",
    "plt.show()"
   ]
  },
  {
   "cell_type": "code",
   "execution_count": 20,
   "metadata": {},
   "outputs": [
    {
     "data": {
      "text/plain": [
       "7.851112e-05"
      ]
     },
     "execution_count": 20,
     "metadata": {},
     "output_type": "execute_result"
    }
   ],
   "source": [
    "max(signal)"
   ]
  },
  {
   "cell_type": "code",
   "execution_count": 21,
   "metadata": {},
   "outputs": [],
   "source": [
    "# add a spike to your EEG data by setting a random value to the value 10000\n",
    "# what happens after you convolve your EEG with the morlet wavelet?\n",
    "signal[5000] = 1e-3\n",
    "\n",
    "conv10_spike = np.convolve(signal, morlet_wavelet10, mode='same')\n",
    "conv15_spike = np.convolve(signal, morlet_wavelet15, mode='same')\n",
    "\n",
    "plt.figure(figsize=(5, 7))\n",
    "plt.subplot(3, 1, 1)\n",
    "plt.title('Convolution with Morlet Wavelet (10Hz)')\n",
    "plt.xlabel('Sample Index')\n",
    "plt.ylabel('Amplitude')\n",
    "plt.plot(np.real(conv10_spike))\n",
    "plt.xlim([0, len(signal)])\n",
    "\n",
    "plt.subplot(3, 1, 2)\n",
    "plt.title('Convolution with Morlet Wavelet (15Hz)')\n",
    "plt.xlabel('Sample Index')\n",
    "plt.ylabel('Amplitude')\n",
    "plt.plot(np.real(conv15_spike))\n",
    "plt.xlim([0, len(signal)])\n",
    "\n",
    "plt.subplot(3, 1, 3)\n",
    "plt.title('Original Signal')\n",
    "plt.xlabel('Sample Index')\n",
    "plt.ylabel('Amplitude')\n",
    "plt.plot(signal)\n",
    "plt.xlim([0, len(signal)])\n",
    "\n",
    "plt.show()"
   ]
  }
 ],
 "metadata": {
  "kernelspec": {
   "display_name": "eegmeg",
   "language": "python",
   "name": "python3"
  },
  "language_info": {
   "codemirror_mode": {
    "name": "ipython",
    "version": 3
   },
   "file_extension": ".py",
   "mimetype": "text/x-python",
   "name": "python",
   "nbconvert_exporter": "python",
   "pygments_lexer": "ipython3",
   "version": "3.9.19"
  }
 },
 "nbformat": 4,
 "nbformat_minor": 2
}
